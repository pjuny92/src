{
 "cells": [
  {
   "cell_type": "markdown",
   "metadata": {},
   "source": [
    "## 서울데이터 \n",
    "\n",
    "* 요청인자 맞추기\n",
    "* 서울데이터에서 open api를 들어가 요청인자 부분을 보고 KEY~LINE_NUM 까지 맞춘다"
   ]
  },
  {
   "cell_type": "code",
   "execution_count": 31,
   "metadata": {
    "collapsed": true
   },
   "outputs": [],
   "source": [
    "import os\n",
    "KEY = \"666568534139327035364559544c4c\"\n",
    "TYPE = 'json'\n",
    "SERVICE = 'SearchSTNBySubwayLineService'\n",
    "START_INDEX = '1'\n",
    "END_INDEX = '10'\n",
    "LINE_NUM = '2'\n",
    "#params = os.path.join(KEY,TYPE,SERVICE,START_INDEX,END_INDEX,LINE_NUM)"
   ]
  },
  {
   "cell_type": "code",
   "execution_count": 32,
   "metadata": {
    "collapsed": true
   },
   "outputs": [],
   "source": [
    "url = 'http://openapi.seoul.go.kr:8088/'\n",
    "url += KEY\n",
    "url += '/'\n",
    "url += TYPE\n",
    "url += '/'\n",
    "url += SERVICE\n",
    "url += '/'\n",
    "url += START_INDEX\n",
    "url += '/'\n",
    "url += END_INDEX\n",
    "url += '/'\n",
    "url += LINE_NUM"
   ]
  },
  {
   "cell_type": "code",
   "execution_count": 33,
   "metadata": {
    "collapsed": false
   },
   "outputs": [
    {
     "name": "stdout",
     "output_type": "stream",
     "text": [
      "http://openapi.seoul.go.kr:8088/666568534139327035364559544c4c/json/SearchSTNBySubwayLineService/1/10/2\n"
     ]
    }
   ],
   "source": [
    "print url"
   ]
  },
  {
   "cell_type": "code",
   "execution_count": 35,
   "metadata": {
    "collapsed": false
   },
   "outputs": [
    {
     "name": "stdout",
     "output_type": "stream",
     "text": [
      "{\"SearchSTNBySubwayLineService\":{\"list_total_count\":51,\"RESULT\":{\"CODE\":\"INFO-000\",\"MESSAGE\":\"정상 처리되었습니다\"},\"row\":[{\"STATION_CD\":\"0201\",\"STATION_NM\":\"시청\",\"LINE_NUM\":\"2\",\"FR_CODE\":\"201\"},{\"STATION_CD\":\"0202\",\"STATION_NM\":\"을지로입구\",\"LINE_NUM\":\"2\",\"FR_CODE\":\"202\"},{\"STATION_CD\":\"0203\",\"STATION_NM\":\"을지로3가\",\"LINE_NUM\":\"2\",\"FR_CODE\":\"203\"},{\"STATION_CD\":\"0204\",\"STATION_NM\":\"을지로4가\",\"LINE_NUM\":\"2\",\"FR_CODE\":\"204\"},{\"STATION_CD\":\"0205\",\"STATION_NM\":\"동대문역사문화공원\",\"LINE_NUM\":\"2\",\"FR_CODE\":\"205\"},{\"STATION_CD\":\"0206\",\"STATION_NM\":\"신당\",\"LINE_NUM\":\"2\",\"FR_CODE\":\"206\"},{\"STATION_CD\":\"0207\",\"STATION_NM\":\"상왕십리\",\"LINE_NUM\":\"2\",\"FR_CODE\":\"207\"},{\"STATION_CD\":\"0208\",\"STATION_NM\":\"왕십리\",\"LINE_NUM\":\"2\",\"FR_CODE\":\"208\"},{\"STATION_CD\":\"0209\",\"STATION_NM\":\"한양대\",\"LINE_NUM\":\"2\",\"FR_CODE\":\"209\"},{\"STATION_CD\":\"0210\",\"STATION_NM\":\"뚝섬\",\"LINE_NUM\":\"2\",\"FR_CODE\":\"210\"}]}}\n"
     ]
    }
   ],
   "source": [
    "import requests\n",
    "data = requests.get(url)\n",
    "print data.text"
   ]
  },
  {
   "cell_type": "code",
   "execution_count": 36,
   "metadata": {
    "collapsed": true
   },
   "outputs": [],
   "source": [
    "myurl= 'http://openapi.seoul.go.kr:8088/666568534139327035364559544c4c/xml/SearchSTNBySubwayLineService/1/10/2'"
   ]
  },
  {
   "cell_type": "code",
   "execution_count": 37,
   "metadata": {
    "collapsed": false,
    "scrolled": true
   },
   "outputs": [
    {
     "name": "stdout",
     "output_type": "stream",
     "text": [
      "<?xml version=\"1.0\" encoding=\"UTF-8\"?><SearchSTNBySubwayLineService>\n",
      "<list_total_count>51</list_total_count>\n",
      "<RESULT>\n",
      "<CODE>INFO-000</CODE>\n",
      "<MESSAGE>정상 처리되었습니다</MESSAGE>\n",
      "</RESULT>\n",
      "<row>\n",
      "<STATION_CD>0201</STATION_CD>\n",
      "<STATION_NM>시청</STATION_NM>\n",
      "<LINE_NUM>2</LINE_NUM>\n",
      "<FR_CODE>201</FR_CODE>\n",
      "</row>\n",
      "<row>\n",
      "<STATION_CD>0202</STATION_CD>\n",
      "<STATION_NM>을지로입구</STATION_NM>\n",
      "<LINE_NUM>2</LINE_NUM>\n",
      "<FR_CODE>202</FR_CODE>\n",
      "</row>\n",
      "<row>\n",
      "<STATION_CD>0203</STATION_CD>\n",
      "<STATION_NM>을지로3가</STATION_NM>\n",
      "<LINE_NUM>2</LINE_NUM>\n",
      "<FR_CODE>203</FR_CODE>\n",
      "</row>\n",
      "<row>\n",
      "<STATION_CD>0204</STATION_CD>\n",
      "<STATION_NM>을지로4가</STATION_NM>\n",
      "<LINE_NUM>2</LINE_NUM>\n",
      "<FR_CODE>204</FR_CODE>\n",
      "</row>\n",
      "<row>\n",
      "<STATION_CD>0205</STATION_CD>\n",
      "<STATION_NM>동대문역사문화공원</STATION_NM>\n",
      "<LINE_NUM>2</LINE_NUM>\n",
      "<FR_CODE>205</FR_CODE>\n",
      "</row>\n",
      "<row>\n",
      "<STATION_CD>0206</STATION_CD>\n",
      "<STATION_NM>신당</STATION_NM>\n",
      "<LINE_NUM>2</LINE_NUM>\n",
      "<FR_CODE>206</FR_CODE>\n",
      "</row>\n",
      "<row>\n",
      "<STATION_CD>0207</STATION_CD>\n",
      "<STATION_NM>상왕십리</STATION_NM>\n",
      "<LINE_NUM>2</LINE_NUM>\n",
      "<FR_CODE>207</FR_CODE>\n",
      "</row>\n",
      "<row>\n",
      "<STATION_CD>0208</STATION_CD>\n",
      "<STATION_NM>왕십리</STATION_NM>\n",
      "<LINE_NUM>2</LINE_NUM>\n",
      "<FR_CODE>208</FR_CODE>\n",
      "</row>\n",
      "<row>\n",
      "<STATION_CD>0209</STATION_CD>\n",
      "<STATION_NM>한양대</STATION_NM>\n",
      "<LINE_NUM>2</LINE_NUM>\n",
      "<FR_CODE>209</FR_CODE>\n",
      "</row>\n",
      "<row>\n",
      "<STATION_CD>0210</STATION_CD>\n",
      "<STATION_NM>뚝섬</STATION_NM>\n",
      "<LINE_NUM>2</LINE_NUM>\n",
      "<FR_CODE>210</FR_CODE>\n",
      "</row>\n",
      "</SearchSTNBySubwayLineService>\n",
      "\n"
     ]
    }
   ],
   "source": [
    "import requests\n",
    "data = requests.get(myurl)\n",
    "print data.text"
   ]
  },
  {
   "cell_type": "markdown",
   "metadata": {},
   "source": [
    "## 서울데이터 - 7016 승하차 인원정보 뽑아내기"
   ]
  },
  {
   "cell_type": "code",
   "execution_count": 20,
   "metadata": {
    "collapsed": false
   },
   "outputs": [
    {
     "name": "stdout",
     "output_type": "stream",
     "text": [
      "http://openapi.seoul.go.kr:8088/666568534139327035364559544c4c/xml/CardBusTimeNew/1/10/201511/7016\n"
     ]
    }
   ],
   "source": [
    "import os\n",
    "KEY = \"666568534139327035364559544c4c\"\n",
    "TYPE = 'xml'\n",
    "SERVICE = 'CardBusTimeNew'\n",
    "START_INDEX = '1'\n",
    "END_INDEX = '10'\n",
    "USE_MON = '201511'\n",
    "BUS_ROUTE_NO = '7016'\n",
    "#params = os.path.join(KEY,TYPE,SERVICE,START_INDEX,END_INDEX,LINE_NUM)\n",
    "url = 'http://openapi.seoul.go.kr:8088/'\n",
    "url += KEY\n",
    "url += '/'\n",
    "url += TYPE\n",
    "url += '/'\n",
    "url += SERVICE\n",
    "url += '/'\n",
    "url += START_INDEX\n",
    "url += '/'\n",
    "url += END_INDEX\n",
    "url += '/'\n",
    "url += USE_MON\n",
    "url += '/'\n",
    "url += BUS_ROUTE_NO\n",
    "print url"
   ]
  },
  {
   "cell_type": "code",
   "execution_count": 21,
   "metadata": {
    "collapsed": false
   },
   "outputs": [
    {
     "name": "stdout",
     "output_type": "stream",
     "text": [
      "<?xml version=\"1.0\" encoding=\"UTF-8\"?><CardBusTimeNew>\n",
      "<list_total_count>106</list_total_count>\n",
      "<RESULT>\n",
      "<CODE>INFO-000</CODE>\n",
      "<MESSAGE>정상 처리되었습니다</MESSAGE>\n",
      "</RESULT>\n",
      "<row>\n",
      "<USE_MON>201511</USE_MON>\n",
      "<BUS_ROUTE_NO>7016</BUS_ROUTE_NO>\n",
      "<BUS_ROUTE_NM>7016번(은평차고지~상명대)</BUS_ROUTE_NM>\n",
      "<STND_BSST_ID>111000907</STND_BSST_ID>\n",
      "<BSST_ARS_NO>35331</BSST_ARS_NO>\n",
      "<BUS_STA_NM>은평공영차고지</BUS_STA_NM>\n",
      "<MIDNIGHT_RIDE_NUM>0</MIDNIGHT_RIDE_NUM>\n",
      "<MIDNIGHT_ALIGHT_NUM>0</MIDNIGHT_ALIGHT_NUM>\n",
      "<ONE_RIDE_NUM>0</ONE_RIDE_NUM>\n",
      "<ONE_ALIGHT_NUM>0</ONE_ALIGHT_NUM>\n",
      "<TWO_RIDE_NUM>0</TWO_RIDE_NUM>\n",
      "<TWO_ALIGHT_NUM>0</TWO_ALIGHT_NUM>\n",
      "<THREE_RIDE_NUM>0</THREE_RIDE_NUM>\n",
      "<THREE_ALIGHT_NUM>0</THREE_ALIGHT_NUM>\n",
      "<FOUR_RIDE_NUM>0</FOUR_RIDE_NUM>\n",
      "<FOUR_ALIGHT_NUM>0</FOUR_ALIGHT_NUM>\n",
      "<FIVE_RIDE_NUM>2</FIVE_RIDE_NUM>\n",
      "<FIVE_ALIGHT_NUM>0</FIVE_ALIGHT_NUM>\n",
      "<SIX_RIDE_NUM>3</SIX_RIDE_NUM>\n",
      "<SIX_ALIGHT_NUM>0</SIX_ALIGHT_NUM>\n",
      "<SEVEN_RIDE_NUM>4</SEVEN_RIDE_NUM>\n",
      "<SEVEN_ALIGHT_NUM>0</SEVEN_ALIGHT_NUM>\n",
      "<EIGHT_RIDE_NUM>17</EIGHT_RIDE_NUM>\n",
      "<EIGHT_ALIGHT_NUM>3</EIGHT_ALIGHT_NUM>\n",
      "<NINE_RIDE_NUM>9</NINE_RIDE_NUM>\n",
      "<NINE_ALIGHT_NUM>1</NINE_ALIGHT_NUM>\n",
      "<TEN_RIDE_NUM>4</TEN_RIDE_NUM>\n",
      "<TEN_ALIGHT_NUM>0</TEN_ALIGHT_NUM>\n",
      "<ELEVEN_RIDE_NUM>14</ELEVEN_RIDE_NUM>\n",
      "<ELEVEN_ALIGHT_NUM>3</ELEVEN_ALIGHT_NUM>\n",
      "<TWELVE_RIDE_NUM>12</TWELVE_RIDE_NUM>\n",
      "<TWELVE_ALIGHT_NUM>0</TWELVE_ALIGHT_NUM>\n",
      "<THIRTEEN_RIDE_NUM>10</THIRTEEN_RIDE_NUM>\n",
      "<THIRTEEN_ALIGHT_NUM>1</THIRTEEN_ALIGHT_NUM>\n",
      "<FOURTEEN_RIDE_NUM>20</FOURTEEN_RIDE_NUM>\n",
      "<FOURTEEN_ALIGHT_NUM>2</FOURTEEN_ALIGHT_NUM>\n",
      "<FIFTEEN_RIDE_NUM>27</FIFTEEN_RIDE_NUM>\n",
      "<FIFTEEN_ALIGHT_NUM>1</FIFTEEN_ALIGHT_NUM>\n",
      "<SIXTEEN_RIDE_NUM>23</SIXTEEN_RIDE_NUM>\n",
      "<SIXTEEN_ALIGHT_NUM>1</SIXTEEN_ALIGHT_NUM>\n",
      "<SEVENTEEN_RIDE_NUM>38</SEVENTEEN_RIDE_NUM>\n",
      "<SEVENTEEN_ALIGHT_NUM>2</SEVENTEEN_ALIGHT_NUM>\n",
      "<EIGHTEEN_RIDE_NUM>42</EIGHTEEN_RIDE_NUM>\n",
      "<EIGHTEEN_ALIGHT_NUM>0</EIGHTEEN_ALIGHT_NUM>\n",
      "<NINETEEN_RIDE_NUM>35</NINETEEN_RIDE_NUM>\n",
      "<NINETEEN_ALIGHT_NUM>3</NINETEEN_ALIGHT_NUM>\n",
      "<TWENTY_RIDE_NUM>14</TWENTY_RIDE_NUM>\n",
      "<TWENTY_ALIGHT_NUM>1</TWENTY_ALIGHT_NUM>\n",
      "<TWENTY_ONE_RIDE_NUM>5</TWENTY_ONE_RIDE_NUM>\n",
      "<TWENTY_ONE_ALIGHT_NUM>0</TWENTY_ONE_ALIGHT_NUM>\n",
      "<TWENTY_TWO_RIDE_NUM>6</TWENTY_TWO_RIDE_NUM>\n",
      "<TWENTY_TWO_ALIGHT_NUM>0</TWENTY_TWO_ALIGHT_NUM>\n",
      "<TWENTY_THREE_RIDE_NUM>0</TWENTY_THREE_RIDE_NUM>\n",
      "<TWENTY_THREE_ALIGHT_NUM>1</TWENTY_THREE_ALIGHT_NUM>\n",
      "<WORK_DT>20151208</WORK_DT>\n",
      "</row>\n",
      "<row>\n",
      "<USE_MON>201511</USE_MON>\n",
      "<BUS_ROUTE_NO>7016</BUS_ROUTE_NO>\n",
      "<BUS_ROUTE_NM>7016번(은평차고지~상명대)</BUS_ROUTE_NM>\n",
      "<STND_BSST_ID>111000225</STND_BSST_ID>\n",
      "<BSST_ARS_NO>12315</BSST_ARS_NO>\n",
      "<BUS_STA_NM>덕은교.은평차고지앞</BUS_STA_NM>\n",
      "<MIDNIGHT_RIDE_NUM>0</MIDNIGHT_RIDE_NUM>\n",
      "<MIDNIGHT_ALIGHT_NUM>0</MIDNIGHT_ALIGHT_NUM>\n",
      "<ONE_RIDE_NUM>0</ONE_RIDE_NUM>\n",
      "<ONE_ALIGHT_NUM>0</ONE_ALIGHT_NUM>\n",
      "<TWO_RIDE_NUM>0</TWO_RIDE_NUM>\n",
      "<TWO_ALIGHT_NUM>0</TWO_ALIGHT_NUM>\n",
      "<THREE_RIDE_NUM>0</THREE_RIDE_NUM>\n",
      "<THREE_ALIGHT_NUM>0</THREE_ALIGHT_NUM>\n",
      "<FOUR_RIDE_NUM>12</FOUR_RIDE_NUM>\n",
      "<FOUR_ALIGHT_NUM>0</FOUR_ALIGHT_NUM>\n",
      "<FIVE_RIDE_NUM>127</FIVE_RIDE_NUM>\n",
      "<FIVE_ALIGHT_NUM>7</FIVE_ALIGHT_NUM>\n",
      "<SIX_RIDE_NUM>146</SIX_RIDE_NUM>\n",
      "<SIX_ALIGHT_NUM>1</SIX_ALIGHT_NUM>\n",
      "<SEVEN_RIDE_NUM>153</SEVEN_RIDE_NUM>\n",
      "<SEVEN_ALIGHT_NUM>0</SEVEN_ALIGHT_NUM>\n",
      "<EIGHT_RIDE_NUM>472</EIGHT_RIDE_NUM>\n",
      "<EIGHT_ALIGHT_NUM>5</EIGHT_ALIGHT_NUM>\n",
      "<NINE_RIDE_NUM>91</NINE_RIDE_NUM>\n",
      "<NINE_ALIGHT_NUM>0</NINE_ALIGHT_NUM>\n",
      "<TEN_RIDE_NUM>112</TEN_RIDE_NUM>\n",
      "<TEN_ALIGHT_NUM>0</TEN_ALIGHT_NUM>\n",
      "<ELEVEN_RIDE_NUM>110</ELEVEN_RIDE_NUM>\n",
      "<ELEVEN_ALIGHT_NUM>0</ELEVEN_ALIGHT_NUM>\n",
      "<TWELVE_RIDE_NUM>60</TWELVE_RIDE_NUM>\n",
      "<TWELVE_ALIGHT_NUM>2</TWELVE_ALIGHT_NUM>\n",
      "<THIRTEEN_RIDE_NUM>65</THIRTEEN_RIDE_NUM>\n",
      "<THIRTEEN_ALIGHT_NUM>1</THIRTEEN_ALIGHT_NUM>\n",
      "<FOURTEEN_RIDE_NUM>56</FOURTEEN_RIDE_NUM>\n",
      "<FOURTEEN_ALIGHT_NUM>0</FOURTEEN_ALIGHT_NUM>\n",
      "<FIFTEEN_RIDE_NUM>57</FIFTEEN_RIDE_NUM>\n",
      "<FIFTEEN_ALIGHT_NUM>0</FIFTEEN_ALIGHT_NUM>\n",
      "<SIXTEEN_RIDE_NUM>62</SIXTEEN_RIDE_NUM>\n",
      "<SIXTEEN_ALIGHT_NUM>3</SIXTEEN_ALIGHT_NUM>\n",
      "<SEVENTEEN_RIDE_NUM>74</SEVENTEEN_RIDE_NUM>\n",
      "<SEVENTEEN_ALIGHT_NUM>3</SEVENTEEN_ALIGHT_NUM>\n",
      "<EIGHTEEN_RIDE_NUM>81</EIGHTEEN_RIDE_NUM>\n",
      "<EIGHTEEN_ALIGHT_NUM>0</EIGHTEEN_ALIGHT_NUM>\n",
      "<NINETEEN_RIDE_NUM>48</NINETEEN_RIDE_NUM>\n",
      "<NINETEEN_ALIGHT_NUM>0</NINETEEN_ALIGHT_NUM>\n",
      "<TWENTY_RIDE_NUM>28</TWENTY_RIDE_NUM>\n",
      "<TWENTY_ALIGHT_NUM>0</TWENTY_ALIGHT_NUM>\n",
      "<TWENTY_ONE_RIDE_NUM>30</TWENTY_ONE_RIDE_NUM>\n",
      "<TWENTY_ONE_ALIGHT_NUM>0</TWENTY_ONE_ALIGHT_NUM>\n",
      "<TWENTY_TWO_RIDE_NUM>11</TWENTY_TWO_RIDE_NUM>\n",
      "<TWENTY_TWO_ALIGHT_NUM>0</TWENTY_TWO_ALIGHT_NUM>\n",
      "<TWENTY_THREE_RIDE_NUM>0</TWENTY_THREE_RIDE_NUM>\n",
      "<TWENTY_THREE_ALIGHT_NUM>0</TWENTY_THREE_ALIGHT_NUM>\n",
      "<WORK_DT>20151208</WORK_DT>\n",
      "</row>\n",
      "<row>\n",
      "<USE_MON>201511</USE_MON>\n",
      "<BUS_ROUTE_NO>7016</BUS_ROUTE_NO>\n",
      "<BUS_ROUTE_NM>7016번(은평차고지~상명대)</BUS_ROUTE_NM>\n",
      "<STND_BSST_ID>113000022</STND_BSST_ID>\n",
      "<BSST_ARS_NO>14112</BSST_ARS_NO>\n",
      "<BUS_STA_NM>DMC첨단산업센터</BUS_STA_NM>\n",
      "<MIDNIGHT_RIDE_NUM>0</MIDNIGHT_RIDE_NUM>\n",
      "<MIDNIGHT_ALIGHT_NUM>0</MIDNIGHT_ALIGHT_NUM>\n",
      "<ONE_RIDE_NUM>0</ONE_RIDE_NUM>\n",
      "<ONE_ALIGHT_NUM>0</ONE_ALIGHT_NUM>\n",
      "<TWO_RIDE_NUM>0</TWO_RIDE_NUM>\n",
      "<TWO_ALIGHT_NUM>0</TWO_ALIGHT_NUM>\n",
      "<THREE_RIDE_NUM>0</THREE_RIDE_NUM>\n",
      "<THREE_ALIGHT_NUM>0</THREE_ALIGHT_NUM>\n",
      "<FOUR_RIDE_NUM>22</FOUR_RIDE_NUM>\n",
      "<FOUR_ALIGHT_NUM>3</FOUR_ALIGHT_NUM>\n",
      "<FIVE_RIDE_NUM>44</FIVE_RIDE_NUM>\n",
      "<FIVE_ALIGHT_NUM>42</FIVE_ALIGHT_NUM>\n",
      "<SIX_RIDE_NUM>251</SIX_RIDE_NUM>\n",
      "<SIX_ALIGHT_NUM>41</SIX_ALIGHT_NUM>\n",
      "<SEVEN_RIDE_NUM>281</SEVEN_RIDE_NUM>\n",
      "<SEVEN_ALIGHT_NUM>43</SEVEN_ALIGHT_NUM>\n",
      "<EIGHT_RIDE_NUM>249</EIGHT_RIDE_NUM>\n",
      "<EIGHT_ALIGHT_NUM>90</EIGHT_ALIGHT_NUM>\n",
      "<NINE_RIDE_NUM>162</NINE_RIDE_NUM>\n",
      "<NINE_ALIGHT_NUM>10</NINE_ALIGHT_NUM>\n",
      "<TEN_RIDE_NUM>133</TEN_RIDE_NUM>\n",
      "<TEN_ALIGHT_NUM>11</TEN_ALIGHT_NUM>\n",
      "<ELEVEN_RIDE_NUM>146</ELEVEN_RIDE_NUM>\n",
      "<ELEVEN_ALIGHT_NUM>15</ELEVEN_ALIGHT_NUM>\n",
      "<TWELVE_RIDE_NUM>89</TWELVE_RIDE_NUM>\n",
      "<TWELVE_ALIGHT_NUM>9</TWELVE_ALIGHT_NUM>\n",
      "<THIRTEEN_RIDE_NUM>122</THIRTEEN_RIDE_NUM>\n",
      "<THIRTEEN_ALIGHT_NUM>8</THIRTEEN_ALIGHT_NUM>\n",
      "<FOURTEEN_RIDE_NUM>149</FOURTEEN_RIDE_NUM>\n",
      "<FOURTEEN_ALIGHT_NUM>17</FOURTEEN_ALIGHT_NUM>\n",
      "<FIFTEEN_RIDE_NUM>176</FIFTEEN_RIDE_NUM>\n",
      "<FIFTEEN_ALIGHT_NUM>11</FIFTEEN_ALIGHT_NUM>\n",
      "<SIXTEEN_RIDE_NUM>134</SIXTEEN_RIDE_NUM>\n",
      "<SIXTEEN_ALIGHT_NUM>17</SIXTEEN_ALIGHT_NUM>\n",
      "<SEVENTEEN_RIDE_NUM>167</SEVENTEEN_RIDE_NUM>\n",
      "<SEVENTEEN_ALIGHT_NUM>9</SEVENTEEN_ALIGHT_NUM>\n",
      "<EIGHTEEN_RIDE_NUM>183</EIGHTEEN_RIDE_NUM>\n",
      "<EIGHTEEN_ALIGHT_NUM>10</EIGHTEEN_ALIGHT_NUM>\n",
      "<NINETEEN_RIDE_NUM>114</NINETEEN_RIDE_NUM>\n",
      "<NINETEEN_ALIGHT_NUM>14</NINETEEN_ALIGHT_NUM>\n",
      "<TWENTY_RIDE_NUM>86</TWENTY_RIDE_NUM>\n",
      "<TWENTY_ALIGHT_NUM>5</TWENTY_ALIGHT_NUM>\n",
      "<TWENTY_ONE_RIDE_NUM>69</TWENTY_ONE_RIDE_NUM>\n",
      "<TWENTY_ONE_ALIGHT_NUM>2</TWENTY_ONE_ALIGHT_NUM>\n",
      "<TWENTY_TWO_RIDE_NUM>40</TWENTY_TWO_RIDE_NUM>\n",
      "<TWENTY_TWO_ALIGHT_NUM>2</TWENTY_TWO_ALIGHT_NUM>\n",
      "<TWENTY_THREE_RIDE_NUM>0</TWENTY_THREE_RIDE_NUM>\n",
      "<TWENTY_THREE_ALIGHT_NUM>0</TWENTY_THREE_ALIGHT_NUM>\n",
      "<WORK_DT>20151208</WORK_DT>\n",
      "</row>\n",
      "<row>\n",
      "<USE_MON>201511</USE_MON>\n",
      "<BUS_ROUTE_NO>7016</BUS_ROUTE_NO>\n",
      "<BUS_ROUTE_NM>7016번(은평차고지~상명대)</BUS_ROUTE_NM>\n",
      "<STND_BSST_ID>113000181</STND_BSST_ID>\n",
      "<BSST_ARS_NO>14272</BSST_ARS_NO>\n",
      "<BUS_STA_NM>월드컵파크7단지</BUS_STA_NM>\n",
      "<MIDNIGHT_RIDE_NUM>0</MIDNIGHT_RIDE_NUM>\n",
      "<MIDNIGHT_ALIGHT_NUM>0</MIDNIGHT_ALIGHT_NUM>\n",
      "<ONE_RIDE_NUM>0</ONE_RIDE_NUM>\n",
      "<ONE_ALIGHT_NUM>0</ONE_ALIGHT_NUM>\n",
      "<TWO_RIDE_NUM>0</TWO_RIDE_NUM>\n",
      "<TWO_ALIGHT_NUM>0</TWO_ALIGHT_NUM>\n",
      "<THREE_RIDE_NUM>0</THREE_RIDE_NUM>\n",
      "<THREE_ALIGHT_NUM>0</THREE_ALIGHT_NUM>\n",
      "<FOUR_RIDE_NUM>8</FOUR_RIDE_NUM>\n",
      "<FOUR_ALIGHT_NUM>7</FOUR_ALIGHT_NUM>\n",
      "<FIVE_RIDE_NUM>41</FIVE_RIDE_NUM>\n",
      "<FIVE_ALIGHT_NUM>62</FIVE_ALIGHT_NUM>\n",
      "<SIX_RIDE_NUM>45</SIX_RIDE_NUM>\n",
      "<SIX_ALIGHT_NUM>158</SIX_ALIGHT_NUM>\n",
      "<SEVEN_RIDE_NUM>50</SEVEN_RIDE_NUM>\n",
      "<SEVEN_ALIGHT_NUM>132</SEVEN_ALIGHT_NUM>\n",
      "<EIGHT_RIDE_NUM>67</EIGHT_RIDE_NUM>\n",
      "<EIGHT_ALIGHT_NUM>232</EIGHT_ALIGHT_NUM>\n",
      "<NINE_RIDE_NUM>38</NINE_RIDE_NUM>\n",
      "<NINE_ALIGHT_NUM>49</NINE_ALIGHT_NUM>\n",
      "<TEN_RIDE_NUM>28</TEN_RIDE_NUM>\n",
      "<TEN_ALIGHT_NUM>54</TEN_ALIGHT_NUM>\n",
      "<ELEVEN_RIDE_NUM>42</ELEVEN_RIDE_NUM>\n",
      "<ELEVEN_ALIGHT_NUM>66</ELEVEN_ALIGHT_NUM>\n",
      "<TWELVE_RIDE_NUM>46</TWELVE_RIDE_NUM>\n",
      "<TWELVE_ALIGHT_NUM>27</TWELVE_ALIGHT_NUM>\n",
      "<THIRTEEN_RIDE_NUM>54</THIRTEEN_RIDE_NUM>\n",
      "<THIRTEEN_ALIGHT_NUM>37</THIRTEEN_ALIGHT_NUM>\n",
      "<FOURTEEN_RIDE_NUM>55</FOURTEEN_RIDE_NUM>\n",
      "<FOURTEEN_ALIGHT_NUM>40</FOURTEEN_ALIGHT_NUM>\n",
      "<FIFTEEN_RIDE_NUM>64</FIFTEEN_RIDE_NUM>\n",
      "<FIFTEEN_ALIGHT_NUM>50</FIFTEEN_ALIGHT_NUM>\n",
      "<SIXTEEN_RIDE_NUM>66</SIXTEEN_RIDE_NUM>\n",
      "<SIXTEEN_ALIGHT_NUM>53</SIXTEEN_ALIGHT_NUM>\n",
      "<SEVENTEEN_RIDE_NUM>67</SEVENTEEN_RIDE_NUM>\n",
      "<SEVENTEEN_ALIGHT_NUM>78</SEVENTEEN_ALIGHT_NUM>\n",
      "<EIGHTEEN_RIDE_NUM>47</EIGHTEEN_RIDE_NUM>\n",
      "<EIGHTEEN_ALIGHT_NUM>52</EIGHTEEN_ALIGHT_NUM>\n",
      "<NINETEEN_RIDE_NUM>35</NINETEEN_RIDE_NUM>\n",
      "<NINETEEN_ALIGHT_NUM>64</NINETEEN_ALIGHT_NUM>\n",
      "<TWENTY_RIDE_NUM>19</TWENTY_RIDE_NUM>\n",
      "<TWENTY_ALIGHT_NUM>26</TWENTY_ALIGHT_NUM>\n",
      "<TWENTY_ONE_RIDE_NUM>19</TWENTY_ONE_RIDE_NUM>\n",
      "<TWENTY_ONE_ALIGHT_NUM>35</TWENTY_ONE_ALIGHT_NUM>\n",
      "<TWENTY_TWO_RIDE_NUM>7</TWENTY_TWO_RIDE_NUM>\n",
      "<TWENTY_TWO_ALIGHT_NUM>13</TWENTY_TWO_ALIGHT_NUM>\n",
      "<TWENTY_THREE_RIDE_NUM>0</TWENTY_THREE_RIDE_NUM>\n",
      "<TWENTY_THREE_ALIGHT_NUM>0</TWENTY_THREE_ALIGHT_NUM>\n",
      "<WORK_DT>20151208</WORK_DT>\n",
      "</row>\n",
      "<row>\n",
      "<USE_MON>201511</USE_MON>\n",
      "<BUS_ROUTE_NO>7016</BUS_ROUTE_NO>\n",
      "<BUS_ROUTE_NM>7016번(은평차고지~상명대)</BUS_ROUTE_NM>\n",
      "<STND_BSST_ID>113000020</STND_BSST_ID>\n",
      "<BSST_ARS_NO>14110</BSST_ARS_NO>\n",
      "<BUS_STA_NM>서부면허시험장</BUS_STA_NM>\n",
      "<MIDNIGHT_RIDE_NUM>0</MIDNIGHT_RIDE_NUM>\n",
      "<MIDNIGHT_ALIGHT_NUM>0</MIDNIGHT_ALIGHT_NUM>\n",
      "<ONE_RIDE_NUM>0</ONE_RIDE_NUM>\n",
      "<ONE_ALIGHT_NUM>0</ONE_ALIGHT_NUM>\n",
      "<TWO_RIDE_NUM>0</TWO_RIDE_NUM>\n",
      "<TWO_ALIGHT_NUM>0</TWO_ALIGHT_NUM>\n",
      "<THREE_RIDE_NUM>0</THREE_RIDE_NUM>\n",
      "<THREE_ALIGHT_NUM>0</THREE_ALIGHT_NUM>\n",
      "<FOUR_RIDE_NUM>42</FOUR_RIDE_NUM>\n",
      "<FOUR_ALIGHT_NUM>1</FOUR_ALIGHT_NUM>\n",
      "<FIVE_RIDE_NUM>122</FIVE_RIDE_NUM>\n",
      "<FIVE_ALIGHT_NUM>4</FIVE_ALIGHT_NUM>\n",
      "<SIX_RIDE_NUM>59</SIX_RIDE_NUM>\n",
      "<SIX_ALIGHT_NUM>31</SIX_ALIGHT_NUM>\n",
      "<SEVEN_RIDE_NUM>200</SEVEN_RIDE_NUM>\n",
      "<SEVEN_ALIGHT_NUM>27</SEVEN_ALIGHT_NUM>\n",
      "<EIGHT_RIDE_NUM>117</EIGHT_RIDE_NUM>\n",
      "<EIGHT_ALIGHT_NUM>134</EIGHT_ALIGHT_NUM>\n",
      "<NINE_RIDE_NUM>113</NINE_RIDE_NUM>\n",
      "<NINE_ALIGHT_NUM>51</NINE_ALIGHT_NUM>\n",
      "<TEN_RIDE_NUM>117</TEN_RIDE_NUM>\n",
      "<TEN_ALIGHT_NUM>30</TEN_ALIGHT_NUM>\n",
      "<ELEVEN_RIDE_NUM>122</ELEVEN_RIDE_NUM>\n",
      "<ELEVEN_ALIGHT_NUM>32</ELEVEN_ALIGHT_NUM>\n",
      "<TWELVE_RIDE_NUM>137</TWELVE_RIDE_NUM>\n",
      "<TWELVE_ALIGHT_NUM>24</TWELVE_ALIGHT_NUM>\n",
      "<THIRTEEN_RIDE_NUM>108</THIRTEEN_RIDE_NUM>\n",
      "<THIRTEEN_ALIGHT_NUM>31</THIRTEEN_ALIGHT_NUM>\n",
      "<FOURTEEN_RIDE_NUM>143</FOURTEEN_RIDE_NUM>\n",
      "<FOURTEEN_ALIGHT_NUM>38</FOURTEEN_ALIGHT_NUM>\n",
      "<FIFTEEN_RIDE_NUM>169</FIFTEEN_RIDE_NUM>\n",
      "<FIFTEEN_ALIGHT_NUM>41</FIFTEEN_ALIGHT_NUM>\n",
      "<SIXTEEN_RIDE_NUM>142</SIXTEEN_RIDE_NUM>\n",
      "<SIXTEEN_ALIGHT_NUM>30</SIXTEEN_ALIGHT_NUM>\n",
      "<SEVENTEEN_RIDE_NUM>94</SEVENTEEN_RIDE_NUM>\n",
      "<SEVENTEEN_ALIGHT_NUM>20</SEVENTEEN_ALIGHT_NUM>\n",
      "<EIGHTEEN_RIDE_NUM>68</EIGHTEEN_RIDE_NUM>\n",
      "<EIGHTEEN_ALIGHT_NUM>29</EIGHTEEN_ALIGHT_NUM>\n",
      "<NINETEEN_RIDE_NUM>29</NINETEEN_RIDE_NUM>\n",
      "<NINETEEN_ALIGHT_NUM>24</NINETEEN_ALIGHT_NUM>\n",
      "<TWENTY_RIDE_NUM>14</TWENTY_RIDE_NUM>\n",
      "<TWENTY_ALIGHT_NUM>11</TWENTY_ALIGHT_NUM>\n",
      "<TWENTY_ONE_RIDE_NUM>31</TWENTY_ONE_RIDE_NUM>\n",
      "<TWENTY_ONE_ALIGHT_NUM>13</TWENTY_ONE_ALIGHT_NUM>\n",
      "<TWENTY_TWO_RIDE_NUM>7</TWENTY_TWO_RIDE_NUM>\n",
      "<TWENTY_TWO_ALIGHT_NUM>6</TWENTY_TWO_ALIGHT_NUM>\n",
      "<TWENTY_THREE_RIDE_NUM>0</TWENTY_THREE_RIDE_NUM>\n",
      "<TWENTY_THREE_ALIGHT_NUM>0</TWENTY_THREE_ALIGHT_NUM>\n",
      "<WORK_DT>20151208</WORK_DT>\n",
      "</row>\n",
      "<row>\n",
      "<USE_MON>201511</USE_MON>\n",
      "<BUS_ROUTE_NO>7016</BUS_ROUTE_NO>\n",
      "<BUS_ROUTE_NM>7016번(은평차고지~상명대)</BUS_ROUTE_NM>\n",
      "<STND_BSST_ID>113000026</STND_BSST_ID>\n",
      "<BSST_ARS_NO>14116</BSST_ARS_NO>\n",
      "<BUS_STA_NM>월드컵파크3단지정문</BUS_STA_NM>\n",
      "<MIDNIGHT_RIDE_NUM>0</MIDNIGHT_RIDE_NUM>\n",
      "<MIDNIGHT_ALIGHT_NUM>0</MIDNIGHT_ALIGHT_NUM>\n",
      "<ONE_RIDE_NUM>0</ONE_RIDE_NUM>\n",
      "<ONE_ALIGHT_NUM>0</ONE_ALIGHT_NUM>\n",
      "<TWO_RIDE_NUM>0</TWO_RIDE_NUM>\n",
      "<TWO_ALIGHT_NUM>0</TWO_ALIGHT_NUM>\n",
      "<THREE_RIDE_NUM>0</THREE_RIDE_NUM>\n",
      "<THREE_ALIGHT_NUM>0</THREE_ALIGHT_NUM>\n",
      "<FOUR_RIDE_NUM>3</FOUR_RIDE_NUM>\n",
      "<FOUR_ALIGHT_NUM>0</FOUR_ALIGHT_NUM>\n",
      "<FIVE_RIDE_NUM>17</FIVE_RIDE_NUM>\n",
      "<FIVE_ALIGHT_NUM>9</FIVE_ALIGHT_NUM>\n",
      "<SIX_RIDE_NUM>93</SIX_RIDE_NUM>\n",
      "<SIX_ALIGHT_NUM>21</SIX_ALIGHT_NUM>\n",
      "<SEVEN_RIDE_NUM>268</SEVEN_RIDE_NUM>\n",
      "<SEVEN_ALIGHT_NUM>53</SEVEN_ALIGHT_NUM>\n",
      "<EIGHT_RIDE_NUM>229</EIGHT_RIDE_NUM>\n",
      "<EIGHT_ALIGHT_NUM>45</EIGHT_ALIGHT_NUM>\n",
      "<NINE_RIDE_NUM>172</NINE_RIDE_NUM>\n",
      "<NINE_ALIGHT_NUM>37</NINE_ALIGHT_NUM>\n",
      "<TEN_RIDE_NUM>149</TEN_RIDE_NUM>\n",
      "<TEN_ALIGHT_NUM>30</TEN_ALIGHT_NUM>\n",
      "<ELEVEN_RIDE_NUM>124</ELEVEN_RIDE_NUM>\n",
      "<ELEVEN_ALIGHT_NUM>24</ELEVEN_ALIGHT_NUM>\n",
      "<TWELVE_RIDE_NUM>148</TWELVE_RIDE_NUM>\n",
      "<TWELVE_ALIGHT_NUM>18</TWELVE_ALIGHT_NUM>\n",
      "<THIRTEEN_RIDE_NUM>120</THIRTEEN_RIDE_NUM>\n",
      "<THIRTEEN_ALIGHT_NUM>32</THIRTEEN_ALIGHT_NUM>\n",
      "<FOURTEEN_RIDE_NUM>96</FOURTEEN_RIDE_NUM>\n",
      "<FOURTEEN_ALIGHT_NUM>30</FOURTEEN_ALIGHT_NUM>\n",
      "<FIFTEEN_RIDE_NUM>131</FIFTEEN_RIDE_NUM>\n",
      "<FIFTEEN_ALIGHT_NUM>23</FIFTEEN_ALIGHT_NUM>\n",
      "<SIXTEEN_RIDE_NUM>117</SIXTEEN_RIDE_NUM>\n",
      "<SIXTEEN_ALIGHT_NUM>22</SIXTEEN_ALIGHT_NUM>\n",
      "<SEVENTEEN_RIDE_NUM>146</SEVENTEEN_RIDE_NUM>\n",
      "<SEVENTEEN_ALIGHT_NUM>36</SEVENTEEN_ALIGHT_NUM>\n",
      "<EIGHTEEN_RIDE_NUM>118</EIGHTEEN_RIDE_NUM>\n",
      "<EIGHTEEN_ALIGHT_NUM>39</EIGHTEEN_ALIGHT_NUM>\n",
      "<NINETEEN_RIDE_NUM>69</NINETEEN_RIDE_NUM>\n",
      "<NINETEEN_ALIGHT_NUM>15</NINETEEN_ALIGHT_NUM>\n",
      "<TWENTY_RIDE_NUM>40</TWENTY_RIDE_NUM>\n",
      "<TWENTY_ALIGHT_NUM>16</TWENTY_ALIGHT_NUM>\n",
      "<TWENTY_ONE_RIDE_NUM>36</TWENTY_ONE_RIDE_NUM>\n",
      "<TWENTY_ONE_ALIGHT_NUM>17</TWENTY_ONE_ALIGHT_NUM>\n",
      "<TWENTY_TWO_RIDE_NUM>17</TWENTY_TWO_RIDE_NUM>\n",
      "<TWENTY_TWO_ALIGHT_NUM>3</TWENTY_TWO_ALIGHT_NUM>\n",
      "<TWENTY_THREE_RIDE_NUM>0</TWENTY_THREE_RIDE_NUM>\n",
      "<TWENTY_THREE_ALIGHT_NUM>0</TWENTY_THREE_ALIGHT_NUM>\n",
      "<WORK_DT>20151208</WORK_DT>\n",
      "</row>\n",
      "<row>\n",
      "<USE_MON>201511</USE_MON>\n",
      "<BUS_ROUTE_NO>7016</BUS_ROUTE_NO>\n",
      "<BUS_ROUTE_NM>7016번(은평차고지~상명대)</BUS_ROUTE_NM>\n",
      "<STND_BSST_ID>113000027</STND_BSST_ID>\n",
      "<BSST_ARS_NO>14117</BSST_ARS_NO>\n",
      "<BUS_STA_NM>월드컵파크2단지</BUS_STA_NM>\n",
      "<MIDNIGHT_RIDE_NUM>0</MIDNIGHT_RIDE_NUM>\n",
      "<MIDNIGHT_ALIGHT_NUM>0</MIDNIGHT_ALIGHT_NUM>\n",
      "<ONE_RIDE_NUM>0</ONE_RIDE_NUM>\n",
      "<ONE_ALIGHT_NUM>0</ONE_ALIGHT_NUM>\n",
      "<TWO_RIDE_NUM>0</TWO_RIDE_NUM>\n",
      "<TWO_ALIGHT_NUM>0</TWO_ALIGHT_NUM>\n",
      "<THREE_RIDE_NUM>0</THREE_RIDE_NUM>\n",
      "<THREE_ALIGHT_NUM>0</THREE_ALIGHT_NUM>\n",
      "<FOUR_RIDE_NUM>7</FOUR_RIDE_NUM>\n",
      "<FOUR_ALIGHT_NUM>1</FOUR_ALIGHT_NUM>\n",
      "<FIVE_RIDE_NUM>59</FIVE_RIDE_NUM>\n",
      "<FIVE_ALIGHT_NUM>12</FIVE_ALIGHT_NUM>\n",
      "<SIX_RIDE_NUM>157</SIX_RIDE_NUM>\n",
      "<SIX_ALIGHT_NUM>25</SIX_ALIGHT_NUM>\n",
      "<SEVEN_RIDE_NUM>264</SEVEN_RIDE_NUM>\n",
      "<SEVEN_ALIGHT_NUM>46</SEVEN_ALIGHT_NUM>\n",
      "<EIGHT_RIDE_NUM>247</EIGHT_RIDE_NUM>\n",
      "<EIGHT_ALIGHT_NUM>32</EIGHT_ALIGHT_NUM>\n",
      "<NINE_RIDE_NUM>128</NINE_RIDE_NUM>\n",
      "<NINE_ALIGHT_NUM>10</NINE_ALIGHT_NUM>\n",
      "<TEN_RIDE_NUM>99</TEN_RIDE_NUM>\n",
      "<TEN_ALIGHT_NUM>18</TEN_ALIGHT_NUM>\n",
      "<ELEVEN_RIDE_NUM>132</ELEVEN_RIDE_NUM>\n",
      "<ELEVEN_ALIGHT_NUM>19</ELEVEN_ALIGHT_NUM>\n",
      "<TWELVE_RIDE_NUM>156</TWELVE_RIDE_NUM>\n",
      "<TWELVE_ALIGHT_NUM>16</TWELVE_ALIGHT_NUM>\n",
      "<THIRTEEN_RIDE_NUM>160</THIRTEEN_RIDE_NUM>\n",
      "<THIRTEEN_ALIGHT_NUM>9</THIRTEEN_ALIGHT_NUM>\n",
      "<FOURTEEN_RIDE_NUM>126</FOURTEEN_RIDE_NUM>\n",
      "<FOURTEEN_ALIGHT_NUM>11</FOURTEEN_ALIGHT_NUM>\n",
      "<FIFTEEN_RIDE_NUM>207</FIFTEEN_RIDE_NUM>\n",
      "<FIFTEEN_ALIGHT_NUM>35</FIFTEEN_ALIGHT_NUM>\n",
      "<SIXTEEN_RIDE_NUM>164</SIXTEEN_RIDE_NUM>\n",
      "<SIXTEEN_ALIGHT_NUM>14</SIXTEEN_ALIGHT_NUM>\n",
      "<SEVENTEEN_RIDE_NUM>190</SEVENTEEN_RIDE_NUM>\n",
      "<SEVENTEEN_ALIGHT_NUM>16</SEVENTEEN_ALIGHT_NUM>\n",
      "<EIGHTEEN_RIDE_NUM>543</EIGHTEEN_RIDE_NUM>\n",
      "<EIGHTEEN_ALIGHT_NUM>14</EIGHTEEN_ALIGHT_NUM>\n",
      "<NINETEEN_RIDE_NUM>257</NINETEEN_RIDE_NUM>\n",
      "<NINETEEN_ALIGHT_NUM>12</NINETEEN_ALIGHT_NUM>\n",
      "<TWENTY_RIDE_NUM>118</TWENTY_RIDE_NUM>\n",
      "<TWENTY_ALIGHT_NUM>5</TWENTY_ALIGHT_NUM>\n",
      "<TWENTY_ONE_RIDE_NUM>84</TWENTY_ONE_RIDE_NUM>\n",
      "<TWENTY_ONE_ALIGHT_NUM>9</TWENTY_ONE_ALIGHT_NUM>\n",
      "<TWENTY_TWO_RIDE_NUM>53</TWENTY_TWO_RIDE_NUM>\n",
      "<TWENTY_TWO_ALIGHT_NUM>4</TWENTY_TWO_ALIGHT_NUM>\n",
      "<TWENTY_THREE_RIDE_NUM>0</TWENTY_THREE_RIDE_NUM>\n",
      "<TWENTY_THREE_ALIGHT_NUM>0</TWENTY_THREE_ALIGHT_NUM>\n",
      "<WORK_DT>20151208</WORK_DT>\n",
      "</row>\n",
      "<row>\n",
      "<USE_MON>201511</USE_MON>\n",
      "<BUS_ROUTE_NO>7016</BUS_ROUTE_NO>\n",
      "<BUS_ROUTE_NM>7016번(은평차고지~상명대)</BUS_ROUTE_NM>\n",
      "<STND_BSST_ID>113000075</STND_BSST_ID>\n",
      "<BSST_ARS_NO>14166</BSST_ARS_NO>\n",
      "<BUS_STA_NM>상암초등학교</BUS_STA_NM>\n",
      "<MIDNIGHT_RIDE_NUM>0</MIDNIGHT_RIDE_NUM>\n",
      "<MIDNIGHT_ALIGHT_NUM>0</MIDNIGHT_ALIGHT_NUM>\n",
      "<ONE_RIDE_NUM>0</ONE_RIDE_NUM>\n",
      "<ONE_ALIGHT_NUM>0</ONE_ALIGHT_NUM>\n",
      "<TWO_RIDE_NUM>0</TWO_RIDE_NUM>\n",
      "<TWO_ALIGHT_NUM>0</TWO_ALIGHT_NUM>\n",
      "<THREE_RIDE_NUM>0</THREE_RIDE_NUM>\n",
      "<THREE_ALIGHT_NUM>0</THREE_ALIGHT_NUM>\n",
      "<FOUR_RIDE_NUM>71</FOUR_RIDE_NUM>\n",
      "<FOUR_ALIGHT_NUM>1</FOUR_ALIGHT_NUM>\n",
      "<FIVE_RIDE_NUM>160</FIVE_RIDE_NUM>\n",
      "<FIVE_ALIGHT_NUM>30</FIVE_ALIGHT_NUM>\n",
      "<SIX_RIDE_NUM>269</SIX_RIDE_NUM>\n",
      "<SIX_ALIGHT_NUM>37</SIX_ALIGHT_NUM>\n",
      "<SEVEN_RIDE_NUM>647</SEVEN_RIDE_NUM>\n",
      "<SEVEN_ALIGHT_NUM>43</SEVEN_ALIGHT_NUM>\n",
      "<EIGHT_RIDE_NUM>574</EIGHT_RIDE_NUM>\n",
      "<EIGHT_ALIGHT_NUM>59</EIGHT_ALIGHT_NUM>\n",
      "<NINE_RIDE_NUM>336</NINE_RIDE_NUM>\n",
      "<NINE_ALIGHT_NUM>45</NINE_ALIGHT_NUM>\n",
      "<TEN_RIDE_NUM>385</TEN_RIDE_NUM>\n",
      "<TEN_ALIGHT_NUM>41</TEN_ALIGHT_NUM>\n",
      "<ELEVEN_RIDE_NUM>308</ELEVEN_RIDE_NUM>\n",
      "<ELEVEN_ALIGHT_NUM>41</ELEVEN_ALIGHT_NUM>\n",
      "<TWELVE_RIDE_NUM>363</TWELVE_RIDE_NUM>\n",
      "<TWELVE_ALIGHT_NUM>38</TWELVE_ALIGHT_NUM>\n",
      "<THIRTEEN_RIDE_NUM>289</THIRTEEN_RIDE_NUM>\n",
      "<THIRTEEN_ALIGHT_NUM>39</THIRTEEN_ALIGHT_NUM>\n",
      "<FOURTEEN_RIDE_NUM>354</FOURTEEN_RIDE_NUM>\n",
      "<FOURTEEN_ALIGHT_NUM>29</FOURTEEN_ALIGHT_NUM>\n",
      "<FIFTEEN_RIDE_NUM>399</FIFTEEN_RIDE_NUM>\n",
      "<FIFTEEN_ALIGHT_NUM>46</FIFTEEN_ALIGHT_NUM>\n",
      "<SIXTEEN_RIDE_NUM>359</SIXTEEN_RIDE_NUM>\n",
      "<SIXTEEN_ALIGHT_NUM>54</SIXTEEN_ALIGHT_NUM>\n",
      "<SEVENTEEN_RIDE_NUM>382</SEVENTEEN_RIDE_NUM>\n",
      "<SEVENTEEN_ALIGHT_NUM>45</SEVENTEEN_ALIGHT_NUM>\n",
      "<EIGHTEEN_RIDE_NUM>760</EIGHTEEN_RIDE_NUM>\n",
      "<EIGHTEEN_ALIGHT_NUM>41</EIGHTEEN_ALIGHT_NUM>\n",
      "<NINETEEN_RIDE_NUM>447</NINETEEN_RIDE_NUM>\n",
      "<NINETEEN_ALIGHT_NUM>34</NINETEEN_ALIGHT_NUM>\n",
      "<TWENTY_RIDE_NUM>284</TWENTY_RIDE_NUM>\n",
      "<TWENTY_ALIGHT_NUM>18</TWENTY_ALIGHT_NUM>\n",
      "<TWENTY_ONE_RIDE_NUM>294</TWENTY_ONE_RIDE_NUM>\n",
      "<TWENTY_ONE_ALIGHT_NUM>20</TWENTY_ONE_ALIGHT_NUM>\n",
      "<TWENTY_TWO_RIDE_NUM>195</TWENTY_TWO_RIDE_NUM>\n",
      "<TWENTY_TWO_ALIGHT_NUM>16</TWENTY_TWO_ALIGHT_NUM>\n",
      "<TWENTY_THREE_RIDE_NUM>0</TWENTY_THREE_RIDE_NUM>\n",
      "<TWENTY_THREE_ALIGHT_NUM>0</TWENTY_THREE_ALIGHT_NUM>\n",
      "<WORK_DT>20151208</WORK_DT>\n",
      "</row>\n",
      "<row>\n",
      "<USE_MON>201511</USE_MON>\n",
      "<BUS_ROUTE_NO>7016</BUS_ROUTE_NO>\n",
      "<BUS_ROUTE_NM>7016번(은평차고지~상명대)</BUS_ROUTE_NM>\n",
      "<STND_BSST_ID>113000074</STND_BSST_ID>\n",
      "<BSST_ARS_NO>14165</BSST_ARS_NO>\n",
      "<BUS_STA_NM>상암휴먼시아아파트</BUS_STA_NM>\n",
      "<MIDNIGHT_RIDE_NUM>0</MIDNIGHT_RIDE_NUM>\n",
      "<MIDNIGHT_ALIGHT_NUM>0</MIDNIGHT_ALIGHT_NUM>\n",
      "<ONE_RIDE_NUM>0</ONE_RIDE_NUM>\n",
      "<ONE_ALIGHT_NUM>0</ONE_ALIGHT_NUM>\n",
      "<TWO_RIDE_NUM>0</TWO_RIDE_NUM>\n",
      "<TWO_ALIGHT_NUM>0</TWO_ALIGHT_NUM>\n",
      "<THREE_RIDE_NUM>0</THREE_RIDE_NUM>\n",
      "<THREE_ALIGHT_NUM>0</THREE_ALIGHT_NUM>\n",
      "<FOUR_RIDE_NUM>9</FOUR_RIDE_NUM>\n",
      "<FOUR_ALIGHT_NUM>1</FOUR_ALIGHT_NUM>\n",
      "<FIVE_RIDE_NUM>52</FIVE_RIDE_NUM>\n",
      "<FIVE_ALIGHT_NUM>24</FIVE_ALIGHT_NUM>\n",
      "<SIX_RIDE_NUM>96</SIX_RIDE_NUM>\n",
      "<SIX_ALIGHT_NUM>5</SIX_ALIGHT_NUM>\n",
      "<SEVEN_RIDE_NUM>252</SEVEN_RIDE_NUM>\n",
      "<SEVEN_ALIGHT_NUM>21</SEVEN_ALIGHT_NUM>\n",
      "<EIGHT_RIDE_NUM>258</EIGHT_RIDE_NUM>\n",
      "<EIGHT_ALIGHT_NUM>31</EIGHT_ALIGHT_NUM>\n",
      "<NINE_RIDE_NUM>188</NINE_RIDE_NUM>\n",
      "<NINE_ALIGHT_NUM>24</NINE_ALIGHT_NUM>\n",
      "<TEN_RIDE_NUM>156</TEN_RIDE_NUM>\n",
      "<TEN_ALIGHT_NUM>16</TEN_ALIGHT_NUM>\n",
      "<ELEVEN_RIDE_NUM>121</ELEVEN_RIDE_NUM>\n",
      "<ELEVEN_ALIGHT_NUM>13</ELEVEN_ALIGHT_NUM>\n",
      "<TWELVE_RIDE_NUM>184</TWELVE_RIDE_NUM>\n",
      "<TWELVE_ALIGHT_NUM>21</TWELVE_ALIGHT_NUM>\n",
      "<THIRTEEN_RIDE_NUM>144</THIRTEEN_RIDE_NUM>\n",
      "<THIRTEEN_ALIGHT_NUM>15</THIRTEEN_ALIGHT_NUM>\n",
      "<FOURTEEN_RIDE_NUM>141</FOURTEEN_RIDE_NUM>\n",
      "<FOURTEEN_ALIGHT_NUM>16</FOURTEEN_ALIGHT_NUM>\n",
      "<FIFTEEN_RIDE_NUM>159</FIFTEEN_RIDE_NUM>\n",
      "<FIFTEEN_ALIGHT_NUM>17</FIFTEEN_ALIGHT_NUM>\n",
      "<SIXTEEN_RIDE_NUM>140</SIXTEEN_RIDE_NUM>\n",
      "<SIXTEEN_ALIGHT_NUM>23</SIXTEEN_ALIGHT_NUM>\n",
      "<SEVENTEEN_RIDE_NUM>158</SEVENTEEN_RIDE_NUM>\n",
      "<SEVENTEEN_ALIGHT_NUM>26</SEVENTEEN_ALIGHT_NUM>\n",
      "<EIGHTEEN_RIDE_NUM>185</EIGHTEEN_RIDE_NUM>\n",
      "<EIGHTEEN_ALIGHT_NUM>53</EIGHTEEN_ALIGHT_NUM>\n",
      "<NINETEEN_RIDE_NUM>134</NINETEEN_RIDE_NUM>\n",
      "<NINETEEN_ALIGHT_NUM>13</NINETEEN_ALIGHT_NUM>\n",
      "<TWENTY_RIDE_NUM>114</TWENTY_RIDE_NUM>\n",
      "<TWENTY_ALIGHT_NUM>6</TWENTY_ALIGHT_NUM>\n",
      "<TWENTY_ONE_RIDE_NUM>97</TWENTY_ONE_RIDE_NUM>\n",
      "<TWENTY_ONE_ALIGHT_NUM>9</TWENTY_ONE_ALIGHT_NUM>\n",
      "<TWENTY_TWO_RIDE_NUM>91</TWENTY_TWO_RIDE_NUM>\n",
      "<TWENTY_TWO_ALIGHT_NUM>3</TWENTY_TWO_ALIGHT_NUM>\n",
      "<TWENTY_THREE_RIDE_NUM>0</TWENTY_THREE_RIDE_NUM>\n",
      "<TWENTY_THREE_ALIGHT_NUM>0</TWENTY_THREE_ALIGHT_NUM>\n",
      "<WORK_DT>20151208</WORK_DT>\n",
      "</row>\n",
      "<row>\n",
      "<USE_MON>201511</USE_MON>\n",
      "<BUS_ROUTE_NO>7016</BUS_ROUTE_NO>\n",
      "<BUS_ROUTE_NM>7016번(은평차고지~상명대)</BUS_ROUTE_NM>\n",
      "<STND_BSST_ID>113000182</STND_BSST_ID>\n",
      "<BSST_ARS_NO>14273</BSST_ARS_NO>\n",
      "<BUS_STA_NM>월드컵경기장북측</BUS_STA_NM>\n",
      "<MIDNIGHT_RIDE_NUM>0</MIDNIGHT_RIDE_NUM>\n",
      "<MIDNIGHT_ALIGHT_NUM>0</MIDNIGHT_ALIGHT_NUM>\n",
      "<ONE_RIDE_NUM>0</ONE_RIDE_NUM>\n",
      "<ONE_ALIGHT_NUM>0</ONE_ALIGHT_NUM>\n",
      "<TWO_RIDE_NUM>0</TWO_RIDE_NUM>\n",
      "<TWO_ALIGHT_NUM>0</TWO_ALIGHT_NUM>\n",
      "<THREE_RIDE_NUM>0</THREE_RIDE_NUM>\n",
      "<THREE_ALIGHT_NUM>0</THREE_ALIGHT_NUM>\n",
      "<FOUR_RIDE_NUM>5</FOUR_RIDE_NUM>\n",
      "<FOUR_ALIGHT_NUM>0</FOUR_ALIGHT_NUM>\n",
      "<FIVE_RIDE_NUM>7</FIVE_RIDE_NUM>\n",
      "<FIVE_ALIGHT_NUM>17</FIVE_ALIGHT_NUM>\n",
      "<SIX_RIDE_NUM>14</SIX_RIDE_NUM>\n",
      "<SIX_ALIGHT_NUM>53</SIX_ALIGHT_NUM>\n",
      "<SEVEN_RIDE_NUM>40</SEVEN_RIDE_NUM>\n",
      "<SEVEN_ALIGHT_NUM>155</SEVEN_ALIGHT_NUM>\n",
      "<EIGHT_RIDE_NUM>48</EIGHT_RIDE_NUM>\n",
      "<EIGHT_ALIGHT_NUM>159</EIGHT_ALIGHT_NUM>\n",
      "<NINE_RIDE_NUM>37</NINE_RIDE_NUM>\n",
      "<NINE_ALIGHT_NUM>71</NINE_ALIGHT_NUM>\n",
      "<TEN_RIDE_NUM>49</TEN_RIDE_NUM>\n",
      "<TEN_ALIGHT_NUM>34</TEN_ALIGHT_NUM>\n",
      "<ELEVEN_RIDE_NUM>39</ELEVEN_RIDE_NUM>\n",
      "<ELEVEN_ALIGHT_NUM>37</ELEVEN_ALIGHT_NUM>\n",
      "<TWELVE_RIDE_NUM>37</TWELVE_RIDE_NUM>\n",
      "<TWELVE_ALIGHT_NUM>35</TWELVE_ALIGHT_NUM>\n",
      "<THIRTEEN_RIDE_NUM>42</THIRTEEN_RIDE_NUM>\n",
      "<THIRTEEN_ALIGHT_NUM>46</THIRTEEN_ALIGHT_NUM>\n",
      "<FOURTEEN_RIDE_NUM>52</FOURTEEN_RIDE_NUM>\n",
      "<FOURTEEN_ALIGHT_NUM>62</FOURTEEN_ALIGHT_NUM>\n",
      "<FIFTEEN_RIDE_NUM>43</FIFTEEN_RIDE_NUM>\n",
      "<FIFTEEN_ALIGHT_NUM>63</FIFTEEN_ALIGHT_NUM>\n",
      "<SIXTEEN_RIDE_NUM>50</SIXTEEN_RIDE_NUM>\n",
      "<SIXTEEN_ALIGHT_NUM>41</SIXTEEN_ALIGHT_NUM>\n",
      "<SEVENTEEN_RIDE_NUM>66</SEVENTEEN_RIDE_NUM>\n",
      "<SEVENTEEN_ALIGHT_NUM>64</SEVENTEEN_ALIGHT_NUM>\n",
      "<EIGHTEEN_RIDE_NUM>90</EIGHTEEN_RIDE_NUM>\n",
      "<EIGHTEEN_ALIGHT_NUM>84</EIGHTEEN_ALIGHT_NUM>\n",
      "<NINETEEN_RIDE_NUM>63</NINETEEN_RIDE_NUM>\n",
      "<NINETEEN_ALIGHT_NUM>60</NINETEEN_ALIGHT_NUM>\n",
      "<TWENTY_RIDE_NUM>31</TWENTY_RIDE_NUM>\n",
      "<TWENTY_ALIGHT_NUM>31</TWENTY_ALIGHT_NUM>\n",
      "<TWENTY_ONE_RIDE_NUM>33</TWENTY_ONE_RIDE_NUM>\n",
      "<TWENTY_ONE_ALIGHT_NUM>16</TWENTY_ONE_ALIGHT_NUM>\n",
      "<TWENTY_TWO_RIDE_NUM>25</TWENTY_TWO_RIDE_NUM>\n",
      "<TWENTY_TWO_ALIGHT_NUM>18</TWENTY_TWO_ALIGHT_NUM>\n",
      "<TWENTY_THREE_RIDE_NUM>0</TWENTY_THREE_RIDE_NUM>\n",
      "<TWENTY_THREE_ALIGHT_NUM>0</TWENTY_THREE_ALIGHT_NUM>\n",
      "<WORK_DT>20151208</WORK_DT>\n",
      "</row>\n",
      "</CardBusTimeNew>\n",
      "\n"
     ]
    }
   ],
   "source": [
    "import requests\n",
    "data = requests.get(url).text\n",
    "print data"
   ]
  },
  {
   "cell_type": "code",
   "execution_count": 44,
   "metadata": {
    "collapsed": false
   },
   "outputs": [
    {
     "name": "stdout",
     "output_type": "stream",
     "text": [
      "은평공영차고지 38\n",
      "덕은교.은평차고지앞 74\n",
      "DMC첨단산업센터 167\n",
      "월드컵파크7단지 67\n",
      "서부면허시험장 94\n"
     ]
    }
   ],
   "source": [
    "import re\n",
    "p=re.compile('<BUS_STA_NM>(.+?)</BUS_STA_NM>')\n",
    "p2=re.compile('<SEVENTEEN_RIDE_NUM>(.+?)</SEVENTEEN_RIDE_NUM>')\n",
    "res1=p.findall (data)\n",
    "res2=p2.findall (data)\n",
    "for item in range(5):\n",
    "    print res1[item] +' '+ res2[item]"
   ]
  },
  {
   "cell_type": "code",
   "execution_count": 47,
   "metadata": {
    "collapsed": false
   },
   "outputs": [
    {
     "name": "stdout",
     "output_type": "stream",
     "text": [
      "http://openapi.seoul.go.kr:8088/666568534139327035364559544c4c/xml/ListLocaldata151903P/1/10\n"
     ]
    }
   ],
   "source": [
    "import os\n",
    "KEY = \"666568534139327035364559544c4c\"\n",
    "TYPE = 'xml'\n",
    "SERVICE = 'ListLocaldata151903P'\n",
    "START_INDEX = '1'\n",
    "END_INDEX = '10'\n",
    "#params = os.path.join(KEY,TYPE,SERVICE,START_INDEX,END_INDEX,LINE_NUM)\n",
    "url = 'http://openapi.seoul.go.kr:8088/'\n",
    "url += KEY\n",
    "url += '/'\n",
    "url += TYPE\n",
    "url += '/'\n",
    "url += SERVICE\n",
    "url += '/'\n",
    "url += START_INDEX\n",
    "url += '/'\n",
    "url += END_INDEX\n",
    "print url"
   ]
  },
  {
   "cell_type": "code",
   "execution_count": 48,
   "metadata": {
    "collapsed": false
   },
   "outputs": [
    {
     "name": "stdout",
     "output_type": "stream",
     "text": [
      "<?xml version=\"1.0\" encoding=\"UTF-8\"?><ListLocaldata151903P>\n",
      "<list_total_count>198</list_total_count>\n",
      "<RESULT>\n",
      "<CODE>INFO-000</CODE>\n",
      "<MESSAGE>정상 처리되었습니다</MESSAGE>\n",
      "</RESULT>\n",
      "<row>\n",
      "<BPLCNM>오션렉스코리아 주식회사</BPLCNM>\n",
      "<SITEWHLADDR>서울특별시 마포구 도화동 37번지 진도빌딩 1405호</SITEWHLADDR>\n",
      "<RDNWHLADDR>서울특별시 마포구 마포대로 44, 1405호 (도화동, 진도빌딩)</RDNWHLADDR>\n",
      "<APVPERMYMD>20140512</APVPERMYMD>\n",
      "<TRDSTATENM>운영중</TRDSTATENM>\n",
      "<DCBYMD/>\n",
      "<CLGSTDT/>\n",
      "<CLGENDDT/>\n",
      "<ROPNYMD/>\n",
      "<SITEAREA/>\n",
      "<SITEPOSTNO/>\n",
      "<TMBSENM/>\n",
      "<TMBSR>1</TMBSR>\n",
      "<TMBSRNM>영업</TMBSRNM>\n",
      "<TRETMBRPRDT>03</TRETMBRPRDT>\n",
      "</row>\n",
      "<row>\n",
      "<BPLCNM>에스에이라인 주식회사</BPLCNM>\n",
      "<SITEWHLADDR>서울특별시 마포구 도화동 555번지</SITEWHLADDR>\n",
      "<RDNWHLADDR>서울특별시 마포구 마포대로 33, O동 25층 2511호 (도화동, 마포한화오벨리스크)</RDNWHLADDR>\n",
      "<APVPERMYMD>20140226</APVPERMYMD>\n",
      "<TRDSTATENM>운영중</TRDSTATENM>\n",
      "<DCBYMD/>\n",
      "<CLGSTDT/>\n",
      "<CLGENDDT/>\n",
      "<ROPNYMD/>\n",
      "<SITEAREA/>\n",
      "<SITEPOSTNO/>\n",
      "<TMBSENM/>\n",
      "<TMBSR>1</TMBSR>\n",
      "<TMBSRNM>영업</TMBSRNM>\n",
      "<TRETMBRPRDT>03</TRETMBRPRDT>\n",
      "</row>\n",
      "<row>\n",
      "<BPLCNM>주식회사 얼라이드리소시즈</BPLCNM>\n",
      "<SITEWHLADDR>서울특별시 마포구 도화동 559번지 마포트라팰리스 A동 2705호</SITEWHLADDR>\n",
      "<RDNWHLADDR>서울특별시 마포구 마포대로 53, A동 2705호 (도화동, 마포트라팰리스)</RDNWHLADDR>\n",
      "<APVPERMYMD>20131231</APVPERMYMD>\n",
      "<TRDSTATENM>운영중</TRDSTATENM>\n",
      "<DCBYMD/>\n",
      "<CLGSTDT/>\n",
      "<CLGENDDT/>\n",
      "<ROPNYMD/>\n",
      "<SITEAREA/>\n",
      "<SITEPOSTNO/>\n",
      "<TMBSENM/>\n",
      "<TMBSR>1</TMBSR>\n",
      "<TMBSRNM>영업</TMBSRNM>\n",
      "<TRETMBRPRDT>03</TRETMBRPRDT>\n",
      "</row>\n",
      "<row>\n",
      "<BPLCNM>다원하임(주)</BPLCNM>\n",
      "<SITEWHLADDR/>\n",
      "<RDNWHLADDR>서울특별시 마포구 독막로 331, 2504호 (도화동, 마스터즈타워)</RDNWHLADDR>\n",
      "<APVPERMYMD>20131231</APVPERMYMD>\n",
      "<TRDSTATENM>운영중</TRDSTATENM>\n",
      "<DCBYMD/>\n",
      "<CLGSTDT/>\n",
      "<CLGENDDT/>\n",
      "<ROPNYMD/>\n",
      "<SITEAREA/>\n",
      "<SITEPOSTNO/>\n",
      "<TMBSENM/>\n",
      "<TMBSR>1</TMBSR>\n",
      "<TMBSRNM>영업</TMBSRNM>\n",
      "<TRETMBRPRDT>03</TRETMBRPRDT>\n",
      "</row>\n",
      "<row>\n",
      "<BPLCNM>***</BPLCNM>\n",
      "<SITEWHLADDR>서울특별시 마포구 동교동 198-1번지</SITEWHLADDR>\n",
      "<RDNWHLADDR>서울특별시 마포구 월드컵북로4길 72, 2층 (동교동, 한양빌딩)</RDNWHLADDR>\n",
      "<APVPERMYMD>20140102</APVPERMYMD>\n",
      "<TRDSTATENM>운영중</TRDSTATENM>\n",
      "<DCBYMD/>\n",
      "<CLGSTDT/>\n",
      "<CLGENDDT/>\n",
      "<ROPNYMD/>\n",
      "<SITEAREA/>\n",
      "<SITEPOSTNO/>\n",
      "<TMBSENM/>\n",
      "<TMBSR>1</TMBSR>\n",
      "<TMBSRNM>영업</TMBSRNM>\n",
      "<TRETMBRPRDT>03</TRETMBRPRDT>\n",
      "</row>\n",
      "<row>\n",
      "<BPLCNM>(주)지어신코리아</BPLCNM>\n",
      "<SITEWHLADDR/>\n",
      "<RDNWHLADDR>서울특별시 마포구 마포대로 44, 1405호 (도화동, 진도빌딩)</RDNWHLADDR>\n",
      "<APVPERMYMD>20131231</APVPERMYMD>\n",
      "<TRDSTATENM>운영중</TRDSTATENM>\n",
      "<DCBYMD/>\n",
      "<CLGSTDT/>\n",
      "<CLGENDDT/>\n",
      "<ROPNYMD/>\n",
      "<SITEAREA/>\n",
      "<SITEPOSTNO/>\n",
      "<TMBSENM>해당없음</TMBSENM>\n",
      "<TMBSR>1</TMBSR>\n",
      "<TMBSRNM>영업</TMBSRNM>\n",
      "<TRETMBRPRDT>03</TRETMBRPRDT>\n",
      "</row>\n",
      "<row>\n",
      "<BPLCNM>한상준</BPLCNM>\n",
      "<SITEWHLADDR/>\n",
      "<RDNWHLADDR>서울특별시 광진구 자양번영로 48 (자양동)</RDNWHLADDR>\n",
      "<APVPERMYMD>20160908</APVPERMYMD>\n",
      "<TRDSTATENM>운영중</TRDSTATENM>\n",
      "<DCBYMD/>\n",
      "<CLGSTDT/>\n",
      "<CLGENDDT/>\n",
      "<ROPNYMD/>\n",
      "<SITEAREA/>\n",
      "<SITEPOSTNO/>\n",
      "<TMBSENM/>\n",
      "<TMBSR>1</TMBSR>\n",
      "<TMBSRNM>영업</TMBSRNM>\n",
      "<TRETMBRPRDT>03</TRETMBRPRDT>\n",
      "</row>\n",
      "<row>\n",
      "<BPLCNM>동우무역</BPLCNM>\n",
      "<SITEWHLADDR/>\n",
      "<RDNWHLADDR>서울특별시 광진구 천호대로109길 85, 2층 202호 (중곡동)</RDNWHLADDR>\n",
      "<APVPERMYMD>20151110</APVPERMYMD>\n",
      "<TRDSTATENM>운영중</TRDSTATENM>\n",
      "<DCBYMD/>\n",
      "<CLGSTDT/>\n",
      "<CLGENDDT/>\n",
      "<ROPNYMD/>\n",
      "<SITEAREA/>\n",
      "<SITEPOSTNO/>\n",
      "<TMBSENM/>\n",
      "<TMBSR>1</TMBSR>\n",
      "<TMBSRNM>영업</TMBSRNM>\n",
      "<TRETMBRPRDT>03</TRETMBRPRDT>\n",
      "</row>\n",
      "<row>\n",
      "<BPLCNM>(주)마샬코퍼레이션</BPLCNM>\n",
      "<SITEWHLADDR>서울특별시 광진구 자양동 226-16번지</SITEWHLADDR>\n",
      "<RDNWHLADDR>서울특별시 광진구 아차산로39길 29, 101호 (자양동)</RDNWHLADDR>\n",
      "<APVPERMYMD>20151012</APVPERMYMD>\n",
      "<TRDSTATENM>운영중</TRDSTATENM>\n",
      "<DCBYMD/>\n",
      "<CLGSTDT/>\n",
      "<CLGENDDT/>\n",
      "<ROPNYMD/>\n",
      "<SITEAREA/>\n",
      "<SITEPOSTNO/>\n",
      "<TMBSENM/>\n",
      "<TMBSR>1</TMBSR>\n",
      "<TMBSRNM>영업</TMBSRNM>\n",
      "<TRETMBRPRDT>03</TRETMBRPRDT>\n",
      "</row>\n",
      "<row>\n",
      "<BPLCNM>유니텍</BPLCNM>\n",
      "<SITEWHLADDR/>\n",
      "<RDNWHLADDR>서울특별시 광진구 아차산로36길 39, 704동 603호 (자양동, 자양우성7차아파트)</RDNWHLADDR>\n",
      "<APVPERMYMD>20151012</APVPERMYMD>\n",
      "<TRDSTATENM>운영중</TRDSTATENM>\n",
      "<DCBYMD/>\n",
      "<CLGSTDT/>\n",
      "<CLGENDDT/>\n",
      "<ROPNYMD/>\n",
      "<SITEAREA/>\n",
      "<SITEPOSTNO/>\n",
      "<TMBSENM/>\n",
      "<TMBSR>1</TMBSR>\n",
      "<TMBSRNM>영업</TMBSRNM>\n",
      "<TRETMBRPRDT>03</TRETMBRPRDT>\n",
      "</row>\n",
      "</ListLocaldata151903P>\n",
      "\n"
     ]
    }
   ],
   "source": [
    "import requests\n",
    "data = requests.get(url).text\n",
    "print data"
   ]
  },
  {
   "cell_type": "code",
   "execution_count": 49,
   "metadata": {
    "collapsed": false
   },
   "outputs": [
    {
     "name": "stdout",
     "output_type": "stream",
     "text": [
      "오션렉스코리아 주식회사 서울특별시 마포구 도화동 37번지 진도빌딩 1405호\n",
      "에스에이라인 주식회사 서울특별시 마포구 도화동 555번지\n",
      "주식회사 얼라이드리소시즈 서울특별시 마포구 도화동 559번지 마포트라팰리스 A동 2705호\n",
      "다원하임(주) 서울특별시 마포구 동교동 198-1번지\n",
      "*** 서울특별시 광진구 자양동 226-16번지\n"
     ]
    }
   ],
   "source": [
    "import re\n",
    "p=re.compile('<BPLCNM>(.+?)</BPLCNM>')\n",
    "p2=re.compile('<SITEWHLADDR>(.+?)</SITEWHLADDR>')\n",
    "res1=p.findall (data)\n",
    "res2=p2.findall (data)\n",
    "# for item in res1:\n",
    "    #print res1\n",
    "for item in range(5):\n",
    "    print res1[item] +' '+ res2[item]"
   ]
  },
  {
   "cell_type": "code",
   "execution_count": 133,
   "metadata": {
    "collapsed": false
   },
   "outputs": [
    {
     "name": "stdout",
     "output_type": "stream",
     "text": [
      "Writing ds_Bus_p1.py\n"
     ]
    }
   ],
   "source": [
    "%%writefile ds_Bus_p1.py\n",
    "import os\n",
    "\n",
    "KEY = \"666568534139327035364559544c4c\"\n",
    "TYPE = 'xml'\n",
    "SERVICE = 'CardBusTimeNew'\n",
    "START_INDEX = '1'\n",
    "END_INDEX = '10'\n",
    "USE_MON = '201511'\n",
    "BUS_ROUTE_NO = '7016'\n",
    "url = 'http://openapi.seoul.go.kr:8088/'\n",
    "url += KEY\n",
    "url += '/'\n",
    "url += TYPE\n",
    "url += '/'\n",
    "url += SERVICE\n",
    "url += '/'\n",
    "url += START_INDEX\n",
    "url += '/'\n",
    "url += END_INDEX\n",
    "url += '/'\n",
    "url += USE_MON\n",
    "url += '/'\n",
    "url += BUS_ROUTE_NO\n",
    "\n",
    "import requests\n",
    "data = requests.get(url).text\n",
    "\n",
    "import re\n",
    "p=re.compile('<BUS_STA_NM>(.+?)</BUS_STA_NM>')\n",
    "p2=re.compile('<SEVENTEEN_RIDE_NUM>(.+?)</SEVENTEEN_RIDE_NUM>')\n",
    "res=p.findall (data) + p2.findall (data)\n",
    "for item in res:\n",
    "    print item"
   ]
  },
  {
   "cell_type": "markdown",
   "metadata": {},
   "source": [
    "## 공공데이터"
   ]
  },
  {
   "cell_type": "code",
   "execution_count": 1,
   "metadata": {
    "collapsed": false
   },
   "outputs": [
    {
     "name": "stdout",
     "output_type": "stream",
     "text": [
      "C:\\Users\\JUNYONG\\Documents\\ProjectRoot\\src\\key.properties\n"
     ]
    }
   ],
   "source": [
    "import os\n",
    "keyPath=os.path.join(os.getcwd(),'ProjectRoot\\src','key.properties')\n",
    "print keyPath"
   ]
  },
  {
   "cell_type": "code",
   "execution_count": 2,
   "metadata": {
    "collapsed": false
   },
   "outputs": [
    {
     "name": "stdout",
     "output_type": "stream",
     "text": [
      "['dataseoul=666568534139327035364559544c4c\\n', 'gokr=luw%2FZLs92vz56SQtTakvSTQCzzfI7JDuIdRv4TV6X8jzONzHMGhbfMxDp%2BDTbzUB%2FQiY7zYdX%2BKEyc%2FaX4YyMg%3D%3D\\n']\n"
     ]
    }
   ],
   "source": [
    "f=open(keyPath,'r')\n",
    "lines=f.readlines()\n",
    "print lines"
   ]
  },
  {
   "cell_type": "markdown",
   "metadata": {},
   "source": [
    "* 받은 API key를 key value로 만들기\n",
    "* strip()은 \\n을 없애주는 작업이다"
   ]
  },
  {
   "cell_type": "code",
   "execution_count": 3,
   "metadata": {
    "collapsed": false
   },
   "outputs": [
    {
     "name": "stdout",
     "output_type": "stream",
     "text": [
      "{'dataseoul': '666568534139327035364559544c4c', 'gokr': 'luw%2FZLs92vz56SQtTakvSTQCzzfI7JDuIdRv4TV6X8jzONzHMGhbfMxDp%2BDTbzUB%2FQiY7zYdX%2BKEyc%2FaX4YyMg%3D%3D'}\n"
     ]
    }
   ],
   "source": [
    "d=dict()\n",
    "for line in lines:\n",
    "    row=line.split('=')\n",
    "    d[row[0]]=row[1].strip()\n",
    "print d"
   ]
  },
  {
   "cell_type": "markdown",
   "metadata": {},
   "source": [
    "* 함수로 만들어 key값 사용하기"
   ]
  },
  {
   "cell_type": "code",
   "execution_count": 4,
   "metadata": {
    "collapsed": true
   },
   "outputs": [],
   "source": [
    "def getKey(keyPath):\n",
    "    d=dict()\n",
    "    f=open(keyPath,'r')\n",
    "    for line in lines:\n",
    "        row=line.split('=')\n",
    "        d[row[0]]=row[1].strip()\n",
    "    return d"
   ]
  },
  {
   "cell_type": "code",
   "execution_count": 5,
   "metadata": {
    "collapsed": false
   },
   "outputs": [],
   "source": [
    "import os\n",
    "keyPath=os.path.join(os.getcwd(),'ProjectRoot\\src','key.properties')\n",
    "\n",
    "key=getKey(keyPath)"
   ]
  },
  {
   "cell_type": "code",
   "execution_count": 6,
   "metadata": {
    "collapsed": false
   },
   "outputs": [
    {
     "data": {
      "text/plain": [
       "'666568534139327035364559544c4c'"
      ]
     },
     "execution_count": 6,
     "metadata": {},
     "output_type": "execute_result"
    }
   ],
   "source": [
    "key['dataseoul']"
   ]
  },
  {
   "cell_type": "code",
   "execution_count": 7,
   "metadata": {
    "collapsed": false,
    "scrolled": true
   },
   "outputs": [
    {
     "data": {
      "text/plain": [
       "'luw%2FZLs92vz56SQtTakvSTQCzzfI7JDuIdRv4TV6X8jzONzHMGhbfMxDp%2BDTbzUB%2FQiY7zYdX%2BKEyc%2FaX4YyMg%3D%3D'"
      ]
     },
     "execution_count": 7,
     "metadata": {},
     "output_type": "execute_result"
    }
   ],
   "source": [
    "key['gokr']"
   ]
  },
  {
   "cell_type": "markdown",
   "metadata": {},
   "source": [
    "## 공공데이터에서 데이터 - 대기오염정보\n",
    "\n",
    "* OpenAPI 활용가이드에 서비스 목록을 들어가서 서비스명을 찾아낸다. 서비스ID는 아님\n",
    "* 그 서비스에 따른 오퍼레이션 목록에서 오퍼레이션명을 찾아낸다."
   ]
  },
  {
   "cell_type": "code",
   "execution_count": 157,
   "metadata": {
    "collapsed": false
   },
   "outputs": [
    {
     "name": "stdout",
     "output_type": "stream",
     "text": [
      "ArpltnInforInqireSvc/getMinuDustFrcstDspth\n"
     ]
    }
   ],
   "source": [
    "SERVICE='ArpltnInforInqireSvc'\n",
    "OPERATION_NAME='getMinuDustFrcstDspth'\n",
    "#param1=os.path.join(SERVICE, OPERATION_NAME)\n",
    "param1=SERVICE+'/'+OPERATION_NAME\n",
    "print param1"
   ]
  },
  {
   "cell_type": "code",
   "execution_count": 158,
   "metadata": {
    "collapsed": false
   },
   "outputs": [
    {
     "name": "stdout",
     "output_type": "stream",
     "text": [
      "searchDate=2016-10-23\n"
     ]
    }
   ],
   "source": [
    "import urllib\n",
    "d=dict()\n",
    "d['searchDate']='2016-10-23'\n",
    "param2=urllib.urlencode(d)\n",
    "print param2"
   ]
  },
  {
   "cell_type": "code",
   "execution_count": 159,
   "metadata": {
    "collapsed": false,
    "scrolled": false
   },
   "outputs": [
    {
     "name": "stdout",
     "output_type": "stream",
     "text": [
      "ArpltnInforInqireSvc/getMinuDustFrcstDspth?serviceKey=luw%2FZLs92vz56SQtTakvSTQCzzfI7JDuIdRv4TV6X8jzONzHMGhbfMxDp%2BDTbzUB%2FQiY7zYdX%2BKEyc%2FaX4YyMg%3D%3D&searchDate=2016-10-23\n"
     ]
    }
   ],
   "source": [
    "params=param1+'?'+'serviceKey='+key['gokr']+'&'+param2\n",
    "print params"
   ]
  },
  {
   "cell_type": "markdown",
   "metadata": {},
   "source": [
    "* 개발환경에 있는 url을 복붙한다."
   ]
  },
  {
   "cell_type": "code",
   "execution_count": 160,
   "metadata": {
    "collapsed": false
   },
   "outputs": [
    {
     "name": "stdout",
     "output_type": "stream",
     "text": [
      "http://openapi.airkorea.or.kr/openapi/services/rest/ArpltnInforInqireSvc/getMinuDustFrcstDspth?serviceKey=luw%2FZLs92vz56SQtTakvSTQCzzfI7JDuIdRv4TV6X8jzONzHMGhbfMxDp%2BDTbzUB%2FQiY7zYdX%2BKEyc%2FaX4YyMg%3D%3D&searchDate=2016-10-23\n"
     ]
    }
   ],
   "source": [
    "import urlparse\n",
    "url='http://openapi.airkorea.or.kr/openapi/services/rest/ArpltnInforInqireSvc'\n",
    "myurl=urlparse.urljoin(url,params)\n",
    "print myurl"
   ]
  },
  {
   "cell_type": "markdown",
   "metadata": {},
   "source": [
    "## 공공데이터 - 표준공시지가정보서비스"
   ]
  },
  {
   "cell_type": "code",
   "execution_count": 170,
   "metadata": {
    "collapsed": false
   },
   "outputs": [
    {
     "name": "stdout",
     "output_type": "stream",
     "text": [
      "ReferLandPriceService/wms/getReferLandPriceWMS\n"
     ]
    }
   ],
   "source": [
    "SERVICE='ReferLandPriceService'\n",
    "OPERATION_NAME='getReferLandPriceWMS'\n",
    "#param1=os.path.join(SERVICE, OPERATION_NAME)\n",
    "param1=SERVICE+'/wms/'+OPERATION_NAME\n",
    "print param1"
   ]
  },
  {
   "cell_type": "markdown",
   "metadata": {},
   "source": [
    "* 요청메세지 명세를 보고 내가 원하는 데이터를 뽑아낸다"
   ]
  },
  {
   "cell_type": "code",
   "execution_count": 177,
   "metadata": {
    "collapsed": false
   },
   "outputs": [
    {
     "name": "stdout",
     "output_type": "stream",
     "text": [
      "crs=EPSG%3A2097&height=700&width=915&bbox=447507.19992872414%2C217364.99999999997%2C447704.80007127585%2C217636.00000000003&format=png\n"
     ]
    }
   ],
   "source": [
    "import urllib\n",
    "d=dict()\n",
    "d['crs']='EPSG:2097'\n",
    "d['format']='png'\n",
    "d['width']='915'\n",
    "d['height']='700'\n",
    "d['bbox']='447507.19992872414,217364.99999999997,447704.80007127585,217636.00000000003'\n",
    "param2=urllib.urlencode(d)\n",
    "print param2"
   ]
  },
  {
   "cell_type": "code",
   "execution_count": 178,
   "metadata": {
    "collapsed": false
   },
   "outputs": [
    {
     "name": "stdout",
     "output_type": "stream",
     "text": [
      "ReferLandPriceService/wms/getReferLandPriceWMS?serviceKey=luw%2FZLs92vz56SQtTakvSTQCzzfI7JDuIdRv4TV6X8jzONzHMGhbfMxDp%2BDTbzUB%2FQiY7zYdX%2BKEyc%2FaX4YyMg%3D%3D&crs=EPSG%3A2097&height=700&width=915&bbox=447507.19992872414%2C217364.99999999997%2C447704.80007127585%2C217636.00000000003&format=png\n"
     ]
    }
   ],
   "source": [
    "params=param1+'?'+'serviceKey='+key['gokr']+'&'+param2\n",
    "print params"
   ]
  },
  {
   "cell_type": "markdown",
   "metadata": {},
   "source": [
    "* 요청/응답 메세지 예제와 같게 해본다"
   ]
  },
  {
   "cell_type": "code",
   "execution_count": 179,
   "metadata": {
    "collapsed": false
   },
   "outputs": [
    {
     "name": "stdout",
     "output_type": "stream",
     "text": [
      "http://apis.data.go.kr/1611000/nsdi/ReferLandPriceService/wms/getReferLandPriceWMS?serviceKey=luw%2FZLs92vz56SQtTakvSTQCzzfI7JDuIdRv4TV6X8jzONzHMGhbfMxDp%2BDTbzUB%2FQiY7zYdX%2BKEyc%2FaX4YyMg%3D%3D&crs=EPSG%3A2097&height=700&width=915&bbox=447507.19992872414%2C217364.99999999997%2C447704.80007127585%2C217636.00000000003&format=png\n"
     ]
    }
   ],
   "source": [
    "import urlparse\n",
    "url='http://apis.data.go.kr/1611000/nsdi/'\n",
    "myurl=urlparse.urljoin(url,params)\n",
    "print myurl"
   ]
  },
  {
   "cell_type": "markdown",
   "metadata": {},
   "source": [
    "## 공공데이터 - RFID기반 음식물쓰레기"
   ]
  },
  {
   "cell_type": "code",
   "execution_count": 8,
   "metadata": {
    "collapsed": false
   },
   "outputs": [
    {
     "name": "stdout",
     "output_type": "stream",
     "text": [
      "RfidFoodWasteService/getAptlist\n"
     ]
    }
   ],
   "source": [
    "SERVICE='RfidFoodWasteService'\n",
    "OPERATION_NAME='getAptlist'\n",
    "#param1=os.path.join(SERVICE, OPERATION_NAME)\n",
    "param1=SERVICE+'/'+OPERATION_NAME\n",
    "print param1"
   ]
  },
  {
   "cell_type": "code",
   "execution_count": 10,
   "metadata": {
    "collapsed": false
   },
   "outputs": [
    {
     "name": "stdout",
     "output_type": "stream",
     "text": [
      "rowNum=2&cityCode=W5P&type=xml&page=1\n"
     ]
    }
   ],
   "source": [
    "import urllib\n",
    "d=dict()\n",
    "d['type']='xml'\n",
    "d['page']='1'\n",
    "d['rowNum']='2'\n",
    "d['cityCode']='W5P'\n",
    "param2=urllib.urlencode(d)\n",
    "print param2"
   ]
  },
  {
   "cell_type": "code",
   "execution_count": 11,
   "metadata": {
    "collapsed": false
   },
   "outputs": [
    {
     "name": "stdout",
     "output_type": "stream",
     "text": [
      "RfidFoodWasteService/getAptlist?ServiceKey=luw%2FZLs92vz56SQtTakvSTQCzzfI7JDuIdRv4TV6X8jzONzHMGhbfMxDp%2BDTbzUB%2FQiY7zYdX%2BKEyc%2FaX4YyMg%3D%3D&rowNum=2&cityCode=W5P&type=xml&page=1\n"
     ]
    }
   ],
   "source": [
    "params=param1+'?'+'ServiceKey='+key['gokr']+'&'+param2\n",
    "print params"
   ]
  },
  {
   "cell_type": "code",
   "execution_count": 12,
   "metadata": {
    "collapsed": false
   },
   "outputs": [
    {
     "name": "stdout",
     "output_type": "stream",
     "text": [
      "http://apis.data.go.kr/B552584/RfidFoodWasteService/getAptlist?ServiceKey=luw%2FZLs92vz56SQtTakvSTQCzzfI7JDuIdRv4TV6X8jzONzHMGhbfMxDp%2BDTbzUB%2FQiY7zYdX%2BKEyc%2FaX4YyMg%3D%3D&rowNum=2&cityCode=W5P&type=xml&page=1\n"
     ]
    }
   ],
   "source": [
    "import urlparse\n",
    "url='http://apis.data.go.kr/B552584/'\n",
    "myurl=urlparse.urljoin(url,params)\n",
    "print myurl"
   ]
  },
  {
   "cell_type": "markdown",
   "metadata": {},
   "source": [
    "## xpath 크롤링"
   ]
  },
  {
   "cell_type": "code",
   "execution_count": 1,
   "metadata": {
    "collapsed": false
   },
   "outputs": [
    {
     "name": "stdout",
     "output_type": "stream",
     "text": [
      "Date Open High Low Close Volume\n",
      "\n",
      "Oct 25, 2016 258.79 258.92 257.82 258.57 68,927,000\n",
      "\n",
      "Oct 24, 2016 257.83 259.48 257.76 259.48 53,738,000\n",
      "\n",
      "Oct 21, 2016 258.16 258.39 256.82 257.26 52,581,000\n",
      "\n",
      "Oct 20, 2016 258.55 259.28 257.80 258.41 60,714,000\n",
      "\n",
      "Oct 19, 2016 257.25 259.67 257.17 258.21 62,057,000\n",
      "\n",
      "Oct 18, 2016 256.17 258.04 255.99 257.98 59,070,000\n",
      "\n",
      "Oct 17, 2016 255.90 257.07 253.71 256.19 55,157,000\n",
      "\n",
      "Oct 14, 2016 254.70 255.91 254.66 255.09 61,589,000\n",
      "\n",
      "Oct 13, 2016 256.19 256.60 253.79 253.93 58,490,000\n",
      "\n",
      "Oct 12, 2016 254.69 256.67 254.56 256.20 62,692,000\n",
      "\n",
      "Oct 11, 2016 259.29 260.40 255.93 256.15 68,770,000\n",
      "\n",
      "Oct 10, 2016 258.85 260.71 257.68 260.31 74,083,000\n",
      "\n",
      "Oct 7, 2016 261.17 261.53 259.73 260.06 62,369,000\n",
      "\n",
      "Oct 6, 2016 261.60 261.68 259.65 261.13 64,936,000\n",
      "\n",
      "Oct 5, 2016 257.51 259.49 256.67 258.99 58,014,000\n",
      "\n",
      "Oct 4, 2016 259.51 259.74 258.55 259.18 62,561,000\n",
      "\n",
      "Sep 30, 2016 258.30 258.91 257.29 257.49 74,918,000\n",
      "\n",
      "Sep 29, 2016 259.60 260.95 259.60 260.35 65,365,000\n",
      "\n",
      "Sep 28, 2016 259.32 259.46 257.96 258.21 59,186,000\n",
      "\n",
      "Sep 27, 2016 256.16 259.87 255.16 259.57 58,684,000\n",
      "\n",
      "Sep 26, 2016 258.07 259.32 256.90 257.48 43,876,000\n",
      "\n",
      "Sep 23, 2016 258.44 259.14 257.71 258.37 58,392,000\n",
      "\n",
      "Sep 22, 2016 258.46 259.99 258.13 258.34 59,904,000\n",
      "\n",
      "Sep 21, 2016 254.65 256.55 254.56 256.52 51,982,000\n",
      "\n",
      "Sep 20, 2016 253.86 255.23 253.33 255.09 54,626,000\n",
      "\n",
      "Sep 19, 2016 251.51 254.54 251.38 253.93 59,750,000\n",
      "\n",
      "Sep 13, 2016 253.39 253.55 251.66 251.77 74,548,000\n",
      "\n",
      "Sep 12, 2016 252.37 253.43 250.53 250.53 66,332,000\n",
      "\n",
      "Sep 9, 2016 258.68 258.94 256.21 257.31 70,053,000\n",
      "\n",
      "Sep 8, 2016 260.72 261.48 259.41 260.86 79,382,000\n",
      "\n"
     ]
    }
   ],
   "source": [
    "# %%writefile ds_KOSPI200.py\n",
    "import urllib\n",
    "response = urllib.urlopen('https://www.google.com/finance/historical?q=KRX%3AKOSPI200&ei=MDHrV5m8E4uo0ATC5YC4Dg')\n",
    "_html = response.read()\n",
    "\n",
    "import xml.etree.ElementTree as ET\n",
    "\n",
    "from lxml import etree\n",
    "_htmlTree = etree.HTML(_html)\n",
    "\n",
    "result = etree.tostring(_htmlTree, pretty_print=True, method=\"html\")\n",
    "\n",
    "nodes1 = _htmlTree.xpath('//*[@class=\"lm\"]/text()')\n",
    "nodes2 = _htmlTree.xpath('//*[@class=\"rgt\"]/text()')\n",
    "nodes3 = _htmlTree.xpath('//*[@class=\"rgt rm\"]/text()')\n",
    "str1 = _htmlTree.xpath('//*[@class=\"bb lm lft\"]/text()')\n",
    "str2 = _htmlTree.xpath('//*[@class=\"rgt bb\"]/text()')\n",
    "str3 = _htmlTree.xpath('//*[@class=\"rgt bb rm\"]/text()')\n",
    "\n",
    "for y in range(1):\n",
    "    m = 4*y\n",
    "    print str1[y].strip(), str2[m].strip(), str2[m+1].strip(), str2[m+2].strip(), str2[m+3].strip(), str3[y]\n",
    "for i in range(30):\n",
    "    n =4*i\n",
    "    print nodes1[i].strip(), nodes2[n].strip(), nodes2[n+1].strip(), nodes2[n+2].strip(), nodes2[n+3].strip(), nodes3[i]"
   ]
  },
  {
   "cell_type": "markdown",
   "metadata": {},
   "source": [
    "## CSS Select"
   ]
  },
  {
   "cell_type": "code",
   "execution_count": 21,
   "metadata": {
    "collapsed": false
   },
   "outputs": [
    {
     "name": "stdout",
     "output_type": "stream",
     "text": [
      "#content Skip to content\n",
      "#python-network \n",
      "                    \n",
      "/ Python\n",
      "/psf-landing/ PSF\n",
      "https://docs.python.org Docs\n",
      "https://pypi.python.org/ PyPI\n",
      "/jobs/ Jobs\n",
      "/community/ Community\n",
      "#top \n",
      "                    \n",
      "/ None\n",
      "#site-map None\n",
      "# None\n",
      "javascript:; Smaller\n",
      "javascript:; Larger\n",
      "javascript:; Reset\n",
      "# Socialize\n",
      "http://plus.google.com/+Python None\n",
      "http://www.facebook.com/pythonlang?fref=ts None\n",
      "http://twitter.com/ThePSF None\n",
      "/community/irc/ None\n",
      "/accounts/login/ Sign In\n",
      "/accounts/signup/ Sign Up / Register\n",
      "/accounts/login/ Sign In\n",
      "/about/ About\n",
      "/about/apps/ Applications\n",
      "/about/quotes/ Quotes\n",
      "/about/gettingstarted/ Getting Started\n",
      "/about/help/ Help\n",
      "http://brochure.getpython.info/ Python Brochure\n",
      "/downloads/ Downloads\n",
      "/downloads/ All releases\n",
      "/downloads/source/ Source code\n",
      "/downloads/windows/ Windows\n",
      "/downloads/mac-osx/ Mac OS X\n",
      "/download/other/ Other Platforms\n",
      "https://docs.python.org/3/license.html License\n",
      "/download/alternatives Alternative Implementations\n",
      "/doc/ Documentation\n",
      "/doc/ Docs\n",
      "/doc/av Audio/Visual Talks\n",
      "https://wiki.python.org/moin/BeginnersGuide Beginner's Guide\n",
      "https://docs.python.org/devguide/ Developer's Guide\n",
      "https://docs.python.org/faq/ FAQ\n",
      "http://wiki.python.org/moin/Languages Non-English Docs\n",
      "http://python.org/dev/peps/ PEP Index\n",
      "https://wiki.python.org/moin/PythonBooks Python Books\n",
      "/community/ Community\n",
      "/community/diversity/ Diversity\n",
      "/community/irc/ IRC\n",
      "/community/lists/ Mailing Lists\n",
      "/community/workshops/ Python Conferences\n",
      "/community/sigs/ Special Interest Groups\n",
      "https://wiki.python.org/moin/ Python Wiki\n",
      "/community/logos/ Python Logo\n",
      "/community/merchandise/ Merchandise\n",
      "/community/awards Community Awards\n",
      "/about/success/ Success Stories\n",
      "/about/success/#arts Arts\n",
      "/about/success/#business Business\n",
      "/about/success/#education Education\n",
      "/about/success/#engineering Engineering\n",
      "/about/success/#government Government\n",
      "/about/success/#scientific Scientific\n",
      "/about/success/#software-development Software Development\n",
      "/blogs/ News\n",
      "/blogs/ Python News\n",
      "http://planetpython.org/ Community News\n",
      "http://pyfound.blogspot.com/ PSF News\n",
      "http://pycon.blogspot.com/ PyCon News\n",
      "/events/ Events\n",
      "/events/python-events Python Events\n",
      "/events/python-user-group/ User Group Events\n",
      "/events/python-events/past/ Python Events Archive\n",
      "/events/python-user-group/past/ User Group Events Archive\n",
      "https://wiki.python.org/moin/PythonEventsCalendar#Submitting_an_Event Submit an Event\n",
      "/shell/ >_\n",
      "                        \n",
      "//docs.python.org/3/tutorial/controlflow.html#defining-functions More about defining functions in Python 3\n",
      "//docs.python.org/3/tutorial/introduction.html#lists More about lists in Python 3\n",
      "http://docs.python.org/3/tutorial/introduction.html#using-python-as-a-calculator More about simple math functions in Python 3\n",
      "//docs.python.org/3/tutorial/ Whet your appetite\n",
      "//docs.python.org/3/tutorial/controlflow.html More control flow tools in Python 3\n",
      "/doc/ Learn More\n",
      "/about/gettingstarted/ Start with our Beginner’s Guide\n",
      "https://wiki.python.org/moin/Python2orPython3 Check here\n",
      "/downloads/release/python-352/ Python 3.5.2\n",
      "/downloads/release/python-2712/ Python 2.7.12\n",
      "https://docs.python.org docs.python.org\n",
      "//jobs.python.org jobs.python.org\n",
      "http://blog.python.org More\n",
      "http://feedproxy.google.com/~r/PythonInsider/~3/fAqupGsm4LQ/python-360b2-is-now-available.html Python 3.6.0b2 is the second of four planned beta releases of ...\n",
      "http://feedproxy.google.com/~r/PythonInsider/~3/ZLTGxjKhYp0/python-core-development-sprint-2016-36.html From September 5th to the 9th a group of Python ...\n",
      "http://feedproxy.google.com/~r/PythonInsider/~3/6vXS6z9YHg0/python-360-beta-1-is-now-available.html Python 3.6.0b1 is the first of four planned beta releases of ...\n",
      "http://feedproxy.google.com/~r/PythonInsider/~3/ukG8L0FEq2Q/python-360-alpha-4-preview-release-is.html Python 3.6.0a4 has been released.  3.6.0a4 is the last of four planned alpha ...\n",
      "http://feedproxy.google.com/~r/PythonInsider/~3/6i6vUY_x_SE/python-360-alpha-3-preview-release-is.html Python 3.6.0a3 has been released.  3.6.0a3 is the third of four planned alpha ...\n",
      "/events/calendars/ More\n",
      "/events/python-user-group/464/ PyKla monthly meetup\n",
      "/events/python-user-group/470/ Python Meeting Düsseldorf\n",
      "/events/python-events/433/ PyCon DE 2016\n",
      "/events/python-events/416/ PyCon CZ 2016\n",
      "/events/python-events/443/ PyCon HK 2016\n",
      "/success-stories/ More\n",
      "/success-stories/industrial-light-magic-runs-python/ ILM runs a batch processing environment capable of modeling, rendering and compositing tens of thousands of motion picture frames per day. Thousands of machines running Linux, IRIX, Compaq Tru64, OS X, Solaris, and Windows join together to provide a production pipeline used by ~800 users daily. Speed of development is key, and Python was a faster way to code (and re-code) the programs that control this production pipeline.\n",
      "/success-stories/industrial-light-magic-runs-python/ Industrial Light & Magic Runs on Python\n",
      "/about/apps More\n",
      "http://www.djangoproject.com/ Django\n",
      "http://www.pylonsproject.org/ Pyramid\n",
      "http://bottlepy.org Bottle\n",
      "http://tornadoweb.org Tornado\n",
      "http://flask.pocoo.org/ Flask\n",
      "http://www.web2py.com/ web2py\n",
      "http://www.wxpython.org/ wxPython\n",
      "http://wiki.python.org/moin/TkInter tkInter\n",
      "http://www.pygtk.org PyGtk\n",
      "https://wiki.gnome.org/Projects/PyGObject PyGObject\n",
      "http://www.riverbankcomputing.co.uk/software/pyqt/intro PyQt\n",
      "http://www.scipy.org SciPy\n",
      "http://pandas.pydata.org/ Pandas\n",
      "http://ipython.org IPython\n",
      "http://buildbot.net/ Buildbot\n",
      "http://trac.edgewall.org/ Trac\n",
      "http://roundup.sourceforge.net/ Roundup\n",
      "http://www.ansible.com Ansible\n",
      "http://www.saltstack.com Salt\n",
      "https://www.openstack.org OpenStack\n",
      "/dev/peps/ Python Enhancement Proposals\n",
      "/dev/peps/peps.rss None\n",
      "/psf/ Python Software Foundation\n",
      "/psf/ Learn more\n",
      "/users/membership/ Become a Member\n",
      "/psf/donations/ Donate to the PSF\n",
      "#python-network None\n",
      "/about/ About\n",
      "/about/apps/ Applications\n",
      "/about/quotes/ Quotes\n",
      "/about/gettingstarted/ Getting Started\n",
      "/about/help/ Help\n",
      "http://brochure.getpython.info/ Python Brochure\n",
      "/downloads/ Downloads\n",
      "/downloads/ All releases\n",
      "/downloads/source/ Source code\n",
      "/downloads/windows/ Windows\n",
      "/downloads/mac-osx/ Mac OS X\n",
      "/download/other/ Other Platforms\n",
      "https://docs.python.org/3/license.html License\n",
      "/download/alternatives Alternative Implementations\n",
      "/doc/ Documentation\n",
      "/doc/ Docs\n",
      "/doc/av Audio/Visual Talks\n",
      "https://wiki.python.org/moin/BeginnersGuide Beginner's Guide\n",
      "https://docs.python.org/devguide/ Developer's Guide\n",
      "https://docs.python.org/faq/ FAQ\n",
      "http://wiki.python.org/moin/Languages Non-English Docs\n",
      "http://python.org/dev/peps/ PEP Index\n",
      "https://wiki.python.org/moin/PythonBooks Python Books\n",
      "/community/ Community\n",
      "/community/diversity/ Diversity\n",
      "/community/irc/ IRC\n",
      "/community/lists/ Mailing Lists\n",
      "/community/workshops/ Python Conferences\n",
      "/community/sigs/ Special Interest Groups\n",
      "https://wiki.python.org/moin/ Python Wiki\n",
      "/community/logos/ Python Logo\n",
      "/community/merchandise/ Merchandise\n",
      "/community/awards Community Awards\n",
      "/about/success/ Success Stories\n",
      "/about/success/#arts Arts\n",
      "/about/success/#business Business\n",
      "/about/success/#education Education\n",
      "/about/success/#engineering Engineering\n",
      "/about/success/#government Government\n",
      "/about/success/#scientific Scientific\n",
      "/about/success/#software-development Software Development\n",
      "/blogs/ News\n",
      "/blogs/ Python News\n",
      "http://planetpython.org/ Community News\n",
      "http://pyfound.blogspot.com/ PSF News\n",
      "http://pycon.blogspot.com/ PyCon News\n",
      "/events/ Events\n",
      "/events/python-events Python Events\n",
      "/events/python-user-group/ User Group Events\n",
      "/events/python-events/past/ Python Events Archive\n",
      "/events/python-user-group/past/ User Group Events Archive\n",
      "https://wiki.python.org/moin/PythonEventsCalendar#Submitting_an_Event Submit an Event\n",
      "/dev/ Contributing\n",
      "http://docs.python.org/devguide/ Developer's Guide\n",
      "http://bugs.python.org/ Issue Tracker\n",
      "https://mail.python.org/mailman/listinfo/python-dev python-dev list\n",
      "/dev/core-mentorship/ Core Mentorship\n",
      "#python-network None\n",
      "/about/help/ Help & \n",
      "/community/diversity/ Diversity \n",
      "https://github.com/python/pythondotorg/issues Submit Website Bug\n",
      "https://status.python.org/ Status \n",
      "/psf-landing/ Python Software Foundation\n",
      "/about/legal/ Legal Statements\n",
      "/privacy/ Privacy Policy\n"
     ]
    }
   ],
   "source": [
    "import lxml.html\n",
    "from lxml.cssselect import CSSSelector\n",
    "import requests\n",
    "\n",
    "r = requests.get('http://python.org/')\n",
    "\n",
    "html = lxml.html.fromstring(r.text)\n",
    "sel=CSSSelector('a[href]')\n",
    "\n",
    "results = sel(html)\n",
    "\n",
    "for item in results:\n",
    "     print item.get('href'), item.text"
   ]
  }
 ],
 "metadata": {
  "anaconda-cloud": {},
  "kernelspec": {
   "display_name": "Python [Root]",
   "language": "python",
   "name": "Python [Root]"
  },
  "language_info": {
   "codemirror_mode": {
    "name": "ipython",
    "version": 2
   },
   "file_extension": ".py",
   "mimetype": "text/x-python",
   "name": "python",
   "nbconvert_exporter": "python",
   "pygments_lexer": "ipython2",
   "version": "2.7.12"
  }
 },
 "nbformat": 4,
 "nbformat_minor": 0
}
