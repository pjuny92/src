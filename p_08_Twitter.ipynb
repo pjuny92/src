{
 "cells": [
  {
   "cell_type": "markdown",
   "metadata": {},
   "source": [
    "## T-1: Twitter에 'Hello World'를 쓴다."
   ]
  },
  {
   "cell_type": "code",
   "execution_count": 2,
   "metadata": {
    "collapsed": false
   },
   "outputs": [
    {
     "name": "stdout",
     "output_type": "stream",
     "text": [
      "C:\\Users\\JUNYONG\\Documents\\ProjectRoot\\src\\twitter4j.properties\n"
     ]
    }
   ],
   "source": [
    "import os\n",
    "keyPath=os.path.join(os.getcwd(),'src','twitter4j.properties')\n",
    "print keyPath"
   ]
  },
  {
   "cell_type": "code",
   "execution_count": 3,
   "metadata": {
    "collapsed": false
   },
   "outputs": [
    {
     "name": "stdout",
     "output_type": "stream",
     "text": [
      "['CONSUMERKEY=gwrvqhOmYa1fjRGZSKLESBTb3\\n', 'CONSUMERSECRET=79JuPCIHeTiBT15vMkudeIehcclNJnTdkVBBzDLXuRyBHfJa3b\\n', 'ACCESSTOKEN=784949607843233792-315FVLqty0WSELU4oApHwz0EKEc6DqG\\n', 'ACCESSTOKENSECRET=nmw3GUVrLMgcpBIhOqZ5k9roaTEodGGUIBP55AqSc1Juo']\n"
     ]
    }
   ],
   "source": [
    "f=open(keyPath,'r')\n",
    "lines=f.readlines()\n",
    "print lines"
   ]
  },
  {
   "cell_type": "code",
   "execution_count": 4,
   "metadata": {
    "collapsed": false
   },
   "outputs": [
    {
     "name": "stdout",
     "output_type": "stream",
     "text": [
      "{'CONSUMERKEY': 'gwrvqhOmYa1fjRGZSKLESBTb3', 'ACCESSTOKENSECRET': 'nmw3GUVrLMgcpBIhOqZ5k9roaTEodGGUIBP55AqSc1Juo', 'ACCESSTOKEN': '784949607843233792-315FVLqty0WSELU4oApHwz0EKEc6DqG', 'CONSUMERSECRET': '79JuPCIHeTiBT15vMkudeIehcclNJnTdkVBBzDLXuRyBHfJa3b'}\n"
     ]
    }
   ],
   "source": [
    "d=dict()\n",
    "for line in lines:\n",
    "    row=line.split('=')\n",
    "    d[row[0]]=row[1].strip()\n",
    "print d"
   ]
  },
  {
   "cell_type": "code",
   "execution_count": 6,
   "metadata": {
    "collapsed": true
   },
   "outputs": [],
   "source": [
    "def getKey(keyPath):\n",
    "    d=dict()\n",
    "    f=open(keyPath,'r')\n",
    "    for line in lines:\n",
    "        row=line.split('=')\n",
    "        d[row[0]]=row[1].strip()\n",
    "    return d"
   ]
  },
  {
   "cell_type": "markdown",
   "metadata": {},
   "source": [
    "* os.path.expanduser(\"~\") 현재 home 디렉토리로 가는것이다."
   ]
  },
  {
   "cell_type": "code",
   "execution_count": 8,
   "metadata": {
    "collapsed": false
   },
   "outputs": [],
   "source": [
    "keyPath=os.path.join(os.getcwd(),'src','twitter4j.properties')\n",
    "key=getKey(keyPath)"
   ]
  },
  {
   "cell_type": "code",
   "execution_count": 9,
   "metadata": {
    "collapsed": false
   },
   "outputs": [
    {
     "name": "stdout",
     "output_type": "stream",
     "text": [
      "<twitter.api.Twitter object at 0x000000000414D240>\n"
     ]
    }
   ],
   "source": [
    "import twitter\n",
    "\n",
    "auth = twitter.oauth.OAuth(key['ACCESSTOKEN'],key['ACCESSTOKENSECRET'],\n",
    "                            key['CONSUMERKEY'], key['CONSUMERSECRET'])\n",
    "_client = twitter.Twitter(auth=auth)\n",
    "print _client"
   ]
  },
  {
   "cell_type": "code",
   "execution_count": 10,
   "metadata": {
    "collapsed": false
   },
   "outputs": [
    {
     "data": {
      "text/plain": [
       "{u'contributors': None,\n",
       " u'coordinates': None,\n",
       " u'created_at': u'Tue Dec 20 14:42:18 +0000 2016',\n",
       " u'entities': {u'hashtags': [],\n",
       "  u'symbols': [],\n",
       "  u'urls': [],\n",
       "  u'user_mentions': []},\n",
       " u'favorite_count': 0,\n",
       " u'favorited': False,\n",
       " u'geo': None,\n",
       " u'id': 811220183297585153L,\n",
       " u'id_str': u'811220183297585153',\n",
       " u'in_reply_to_screen_name': None,\n",
       " u'in_reply_to_status_id': None,\n",
       " u'in_reply_to_status_id_str': None,\n",
       " u'in_reply_to_user_id': None,\n",
       " u'in_reply_to_user_id_str': None,\n",
       " u'is_quote_status': False,\n",
       " u'lang': u'en',\n",
       " u'place': None,\n",
       " u'retweet_count': 0,\n",
       " u'retweeted': False,\n",
       " u'source': u'<a href=\"http://blog.naver.com/92pjuny\" rel=\"nofollow\">junyongPark</a>',\n",
       " u'text': u'My Exam Data 16.11.09',\n",
       " u'truncated': False,\n",
       " u'user': {u'contributors_enabled': False,\n",
       "  u'created_at': u'Sun Oct 09 02:52:24 +0000 2016',\n",
       "  u'default_profile': True,\n",
       "  u'default_profile_image': True,\n",
       "  u'description': u'',\n",
       "  u'entities': {u'description': {u'urls': []}},\n",
       "  u'favourites_count': 0,\n",
       "  u'follow_request_sent': False,\n",
       "  u'followers_count': 1,\n",
       "  u'following': False,\n",
       "  u'friends_count': 6,\n",
       "  u'geo_enabled': False,\n",
       "  u'has_extended_profile': False,\n",
       "  u'id': 784949607843233792L,\n",
       "  u'id_str': u'784949607843233792',\n",
       "  u'is_translation_enabled': False,\n",
       "  u'is_translator': False,\n",
       "  u'lang': u'ko',\n",
       "  u'listed_count': 0,\n",
       "  u'location': u'',\n",
       "  u'name': u'junyongPark',\n",
       "  u'notifications': False,\n",
       "  u'profile_background_color': u'F5F8FA',\n",
       "  u'profile_background_image_url': None,\n",
       "  u'profile_background_image_url_https': None,\n",
       "  u'profile_background_tile': False,\n",
       "  u'profile_image_url': u'http://abs.twimg.com/sticky/default_profile_images/default_profile_1_normal.png',\n",
       "  u'profile_image_url_https': u'https://abs.twimg.com/sticky/default_profile_images/default_profile_1_normal.png',\n",
       "  u'profile_link_color': u'1DA1F2',\n",
       "  u'profile_sidebar_border_color': u'C0DEED',\n",
       "  u'profile_sidebar_fill_color': u'DDEEF6',\n",
       "  u'profile_text_color': u'333333',\n",
       "  u'profile_use_background_image': True,\n",
       "  u'protected': False,\n",
       "  u'screen_name': u'JunDPark',\n",
       "  u'statuses_count': 5,\n",
       "  u'time_zone': None,\n",
       "  u'translator_type': u'none',\n",
       "  u'url': None,\n",
       "  u'utc_offset': None,\n",
       "  u'verified': False}}"
      ]
     },
     "execution_count": 10,
     "metadata": {},
     "output_type": "execute_result"
    }
   ],
   "source": [
    "_client.statuses.update(status=\"My Exam Data 16.11.09\")"
   ]
  },
  {
   "cell_type": "markdown",
   "metadata": {},
   "source": [
    "## T-2: 자신의 타임라인 가져오기"
   ]
  },
  {
   "cell_type": "code",
   "execution_count": 8,
   "metadata": {
    "collapsed": true
   },
   "outputs": [],
   "source": [
    "from pymongo import MongoClient\n",
    "_mclient=MongoClient()"
   ]
  },
  {
   "cell_type": "markdown",
   "metadata": {},
   "source": [
    "* 저장할 DB를 만든다."
   ]
  },
  {
   "cell_type": "code",
   "execution_count": 9,
   "metadata": {
    "collapsed": false
   },
   "outputs": [
    {
     "data": {
      "text/plain": [
       "Database(MongoClient(host=['localhost:27017'], document_class=dict, tz_aware=False, connect=True), u'ds_twitter')"
      ]
     },
     "execution_count": 9,
     "metadata": {},
     "output_type": "execute_result"
    }
   ],
   "source": [
    "_mclient['ds_twitter']"
   ]
  },
  {
   "cell_type": "code",
   "execution_count": 10,
   "metadata": {
    "collapsed": true
   },
   "outputs": [],
   "source": [
    "_db=_mclient.ds_twitter\n",
    "_col=_db.home_timeline"
   ]
  },
  {
   "cell_type": "code",
   "execution_count": 11,
   "metadata": {
    "collapsed": true
   },
   "outputs": [],
   "source": [
    "home_timeline = _client.statuses.home_timeline()"
   ]
  },
  {
   "cell_type": "markdown",
   "metadata": {},
   "source": [
    "* 0번째 텍스트를 가져온다. 가장 최근에 올린것이 0번!! \n",
    "* 숫자가 커질수록 내가 예전에 올렸던 글들이다."
   ]
  },
  {
   "cell_type": "code",
   "execution_count": 16,
   "metadata": {
    "collapsed": false
   },
   "outputs": [
    {
     "data": {
      "text/plain": [
       "u'My Exam Data 16.11.09'"
      ]
     },
     "execution_count": 16,
     "metadata": {},
     "output_type": "execute_result"
    }
   ],
   "source": [
    "home_timeline[0]['text']"
   ]
  },
  {
   "cell_type": "markdown",
   "metadata": {},
   "source": [
    "* 지금 내 타임란인에 글이 몇개 있는지 알려준다."
   ]
  },
  {
   "cell_type": "code",
   "execution_count": 17,
   "metadata": {
    "collapsed": false
   },
   "outputs": [
    {
     "data": {
      "text/plain": [
       "4"
      ]
     },
     "execution_count": 17,
     "metadata": {},
     "output_type": "execute_result"
    }
   ],
   "source": [
    "len(home_timeline)"
   ]
  },
  {
   "cell_type": "code",
   "execution_count": 18,
   "metadata": {
    "collapsed": false
   },
   "outputs": [
    {
     "name": "stdout",
     "output_type": "stream",
     "text": [
      "[{u'contributors': None, u'truncated': False, u'text': u'My Exam Data 16.11.09', u'is_quote_status': False, u'in_reply_to_status_id': None, u'id': 796312238323744768L, u'favorite_count': 0, u'source': u'<a href=\"http://blog.naver.com/92pjuny\" rel=\"nofollow\">junyongPark</a>', u'retweeted': False, u'coordinates': None, u'entities': {u'symbols': [], u'user_mentions': [], u'hashtags': [], u'urls': []}, u'in_reply_to_screen_name': None, u'in_reply_to_user_id': None, u'retweet_count': 0, u'id_str': u'796312238323744768', u'favorited': False, u'user': {u'follow_request_sent': False, u'has_extended_profile': False, u'profile_use_background_image': True, u'default_profile_image': True, u'id': 784949607843233792L, u'profile_background_image_url_https': None, u'verified': False, u'translator_type': u'none', u'profile_text_color': u'333333', u'profile_image_url_https': u'https://abs.twimg.com/sticky/default_profile_images/default_profile_1_normal.png', u'profile_sidebar_fill_color': u'DDEEF6', u'entities': {u'description': {u'urls': []}}, u'followers_count': 0, u'profile_sidebar_border_color': u'C0DEED', u'id_str': u'784949607843233792', u'profile_background_color': u'F5F8FA', u'listed_count': 0, u'is_translation_enabled': False, u'utc_offset': None, u'statuses_count': 4, u'description': u'', u'friends_count': 0, u'location': u'', u'profile_link_color': u'1DA1F2', u'profile_image_url': u'http://abs.twimg.com/sticky/default_profile_images/default_profile_1_normal.png', u'following': False, u'geo_enabled': False, u'profile_background_image_url': None, u'screen_name': u'JunDPark', u'lang': u'ko', u'profile_background_tile': False, u'favourites_count': 0, u'name': u'junyongPark', u'notifications': False, u'url': None, u'created_at': u'Sun Oct 09 02:52:24 +0000 2016', u'contributors_enabled': False, u'time_zone': None, u'protected': False, u'default_profile': True, u'is_translator': False}, u'geo': None, u'in_reply_to_user_id_str': None, u'lang': u'en', u'created_at': u'Wed Nov 09 11:23:27 +0000 2016', u'in_reply_to_status_id_str': None, u'place': None}, {u'contributors': None, u'truncated': False, u'text': u'Hello Twitter 1 1611091716', u'is_quote_status': False, u'in_reply_to_status_id': None, u'id': 796265196037623808L, u'favorite_count': 0, u'source': u'<a href=\"http://blog.naver.com/92pjuny\" rel=\"nofollow\">junyongPark</a>', u'retweeted': False, u'coordinates': None, u'entities': {u'symbols': [], u'user_mentions': [], u'hashtags': [], u'urls': []}, u'in_reply_to_screen_name': None, u'in_reply_to_user_id': None, u'retweet_count': 0, u'id_str': u'796265196037623808', u'favorited': False, u'user': {u'follow_request_sent': False, u'has_extended_profile': False, u'profile_use_background_image': True, u'default_profile_image': True, u'id': 784949607843233792L, u'profile_background_image_url_https': None, u'verified': False, u'translator_type': u'none', u'profile_text_color': u'333333', u'profile_image_url_https': u'https://abs.twimg.com/sticky/default_profile_images/default_profile_1_normal.png', u'profile_sidebar_fill_color': u'DDEEF6', u'entities': {u'description': {u'urls': []}}, u'followers_count': 0, u'profile_sidebar_border_color': u'C0DEED', u'id_str': u'784949607843233792', u'profile_background_color': u'F5F8FA', u'listed_count': 0, u'is_translation_enabled': False, u'utc_offset': None, u'statuses_count': 4, u'description': u'', u'friends_count': 0, u'location': u'', u'profile_link_color': u'1DA1F2', u'profile_image_url': u'http://abs.twimg.com/sticky/default_profile_images/default_profile_1_normal.png', u'following': False, u'geo_enabled': False, u'profile_background_image_url': None, u'screen_name': u'JunDPark', u'lang': u'ko', u'profile_background_tile': False, u'favourites_count': 0, u'name': u'junyongPark', u'notifications': False, u'url': None, u'created_at': u'Sun Oct 09 02:52:24 +0000 2016', u'contributors_enabled': False, u'time_zone': None, u'protected': False, u'default_profile': True, u'is_translator': False}, u'geo': None, u'in_reply_to_user_id_str': None, u'lang': u'no', u'created_at': u'Wed Nov 09 08:16:31 +0000 2016', u'in_reply_to_status_id_str': None, u'place': None}, {u'contributors': None, u'truncated': False, u'text': u'Hello Twitter 1 161109', u'is_quote_status': False, u'in_reply_to_status_id': None, u'id': 796264215489019904L, u'favorite_count': 0, u'source': u'<a href=\"http://blog.naver.com/92pjuny\" rel=\"nofollow\">junyongPark</a>', u'retweeted': False, u'coordinates': None, u'entities': {u'symbols': [], u'user_mentions': [], u'hashtags': [], u'urls': []}, u'in_reply_to_screen_name': None, u'in_reply_to_user_id': None, u'retweet_count': 0, u'id_str': u'796264215489019904', u'favorited': False, u'user': {u'follow_request_sent': False, u'has_extended_profile': False, u'profile_use_background_image': True, u'default_profile_image': True, u'id': 784949607843233792L, u'profile_background_image_url_https': None, u'verified': False, u'translator_type': u'none', u'profile_text_color': u'333333', u'profile_image_url_https': u'https://abs.twimg.com/sticky/default_profile_images/default_profile_1_normal.png', u'profile_sidebar_fill_color': u'DDEEF6', u'entities': {u'description': {u'urls': []}}, u'followers_count': 0, u'profile_sidebar_border_color': u'C0DEED', u'id_str': u'784949607843233792', u'profile_background_color': u'F5F8FA', u'listed_count': 0, u'is_translation_enabled': False, u'utc_offset': None, u'statuses_count': 4, u'description': u'', u'friends_count': 0, u'location': u'', u'profile_link_color': u'1DA1F2', u'profile_image_url': u'http://abs.twimg.com/sticky/default_profile_images/default_profile_1_normal.png', u'following': False, u'geo_enabled': False, u'profile_background_image_url': None, u'screen_name': u'JunDPark', u'lang': u'ko', u'profile_background_tile': False, u'favourites_count': 0, u'name': u'junyongPark', u'notifications': False, u'url': None, u'created_at': u'Sun Oct 09 02:52:24 +0000 2016', u'contributors_enabled': False, u'time_zone': None, u'protected': False, u'default_profile': True, u'is_translator': False}, u'geo': None, u'in_reply_to_user_id_str': None, u'lang': u'no', u'created_at': u'Wed Nov 09 08:12:37 +0000 2016', u'in_reply_to_status_id_str': None, u'place': None}, {u'contributors': None, u'truncated': False, u'text': u'Hello Twitter 1 160924', u'is_quote_status': False, u'in_reply_to_status_id': None, u'id': 796241656978644992L, u'favorite_count': 0, u'source': u'<a href=\"http://blog.naver.com/92pjuny\" rel=\"nofollow\">junyongPark</a>', u'retweeted': False, u'coordinates': None, u'entities': {u'symbols': [], u'user_mentions': [], u'hashtags': [], u'urls': []}, u'in_reply_to_screen_name': None, u'in_reply_to_user_id': None, u'retweet_count': 0, u'id_str': u'796241656978644992', u'favorited': False, u'user': {u'follow_request_sent': False, u'has_extended_profile': False, u'profile_use_background_image': True, u'default_profile_image': True, u'id': 784949607843233792L, u'profile_background_image_url_https': None, u'verified': False, u'translator_type': u'none', u'profile_text_color': u'333333', u'profile_image_url_https': u'https://abs.twimg.com/sticky/default_profile_images/default_profile_1_normal.png', u'profile_sidebar_fill_color': u'DDEEF6', u'entities': {u'description': {u'urls': []}}, u'followers_count': 0, u'profile_sidebar_border_color': u'C0DEED', u'id_str': u'784949607843233792', u'profile_background_color': u'F5F8FA', u'listed_count': 0, u'is_translation_enabled': False, u'utc_offset': None, u'statuses_count': 4, u'description': u'', u'friends_count': 0, u'location': u'', u'profile_link_color': u'1DA1F2', u'profile_image_url': u'http://abs.twimg.com/sticky/default_profile_images/default_profile_1_normal.png', u'following': False, u'geo_enabled': False, u'profile_background_image_url': None, u'screen_name': u'JunDPark', u'lang': u'ko', u'profile_background_tile': False, u'favourites_count': 0, u'name': u'junyongPark', u'notifications': False, u'url': None, u'created_at': u'Sun Oct 09 02:52:24 +0000 2016', u'contributors_enabled': False, u'time_zone': None, u'protected': False, u'default_profile': True, u'is_translator': False}, u'geo': None, u'in_reply_to_user_id_str': None, u'lang': u'no', u'created_at': u'Wed Nov 09 06:42:59 +0000 2016', u'in_reply_to_status_id_str': None, u'place': None}]\n"
     ]
    }
   ],
   "source": [
    "print home_timeline"
   ]
  },
  {
   "cell_type": "code",
   "execution_count": 19,
   "metadata": {
    "collapsed": false
   },
   "outputs": [
    {
     "name": "stdout",
     "output_type": "stream",
     "text": [
      "796312238323744768 My Exam Data 16.11.09\n",
      "796265196037623808 Hello Twitter 1 1611091716\n",
      "796264215489019904 Hello Twitter 1 161109\n",
      "796241656978644992 Hello Twitter 1 160924\n"
     ]
    }
   ],
   "source": [
    "for tweet in home_timeline:\n",
    "    print tweet['id'],tweet['text']"
   ]
  },
  {
   "cell_type": "code",
   "execution_count": 20,
   "metadata": {
    "collapsed": false
   },
   "outputs": [
    {
     "name": "stdout",
     "output_type": "stream",
     "text": [
      "796312238323744768 My Exam Data 16.11.09\n",
      "796265196037623808 Hello Twitter 1 1611091716\n",
      "796264215489019904 Hello Twitter 1 161109\n",
      "796241656978644992 Hello Twitter 1 160924\n"
     ]
    }
   ],
   "source": [
    "for tweet in home_timeline:\n",
    "    print tweet['id'],tweet['text']\n",
    "    _col.insert_one(tweet)"
   ]
  }
 ],
 "metadata": {
  "kernelspec": {
   "display_name": "Python [Root]",
   "language": "python",
   "name": "Python [Root]"
  },
  "language_info": {
   "codemirror_mode": {
    "name": "ipython",
    "version": 2
   },
   "file_extension": ".py",
   "mimetype": "text/x-python",
   "name": "python",
   "nbconvert_exporter": "python",
   "pygments_lexer": "ipython2",
   "version": "2.7.12"
  }
 },
 "nbformat": 4,
 "nbformat_minor": 0
}
